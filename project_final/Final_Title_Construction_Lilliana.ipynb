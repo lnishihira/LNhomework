{
 "cells": [
  {
   "cell_type": "markdown",
   "metadata": {},
   "source": [
    "Data Science General Assembly Final Project"
   ]
  },
  {
   "cell_type": "markdown",
   "metadata": {},
   "source": [
    "# Main Question: What makes a clickable title?"
   ]
  },
  {
   "cell_type": "markdown",
   "metadata": {},
   "source": [
    "I'm very interested, in general, in numerically understanding what make's something \"beautiful\" weather it be something that is pleasing to the eye, or something you read. This is my first step into this venture."
   ]
  },
  {
   "cell_type": "code",
   "execution_count": null,
   "metadata": {
    "collapsed": true
   },
   "outputs": [],
   "source": []
  },
  {
   "cell_type": "markdown",
   "metadata": {},
   "source": [
    "FieldName|Type|Description\n",
    "---------|----|-----------\n",
    "post_id|string|unique identifier\n",
    "page_title|string|Title of the article\n",
    "publish_date|TimeSeries|Date and time published\n",
    "p_new_session|float| Percent of page views were first entry\n",
    "time_on_page|float|(average)number of seconds spent on page \n",
    "Pageview|int|Times page was viewed (response)\n",
    "Noun|int|Count of Nouns in title\n",
    "Verb|int|Count of Verbs in title\n",
    "Adj|int|Count of Adjectives in title\n",
    "Det|int|Count of Determiners in title\n",
    "Hour|int|Hour published \n",
    "DayofWeek|int|Day of week published (0=Monday)\n",
    "Compisition|string|Position of numbers and presence of \"The\" in first position \n",
    "Class|Bool|Whether article is successful or not, based on just above the median of pageviews 1=Successful"
   ]
  },
  {
   "cell_type": "code",
   "execution_count": null,
   "metadata": {
    "collapsed": true
   },
   "outputs": [],
   "source": []
  },
  {
   "cell_type": "code",
   "execution_count": 780,
   "metadata": {
    "collapsed": true
   },
   "outputs": [],
   "source": [
    "import pandas as pd\n",
    "import numpy as np\n",
    "import matplotlib.pyplot as plt\n",
    "import seaborn as sb\n",
    "%matplotlib inline\n",
    "plt.style.use('fivethirtyeight')\n",
    "import spacy #Parts of speech counts\n",
    "from spacy.en import English\n"
   ]
  },
  {
   "cell_type": "markdown",
   "metadata": {},
   "source": [
    "# Cleaning"
   ]
  },
  {
   "cell_type": "code",
   "execution_count": 781,
   "metadata": {
    "collapsed": true
   },
   "outputs": [],
   "source": [
    "df = pd.read_csv('project_finalsports')\n",
    "s = df['date_published'].astype(str)"
   ]
  },
  {
   "cell_type": "code",
   "execution_count": 782,
   "metadata": {
    "collapsed": true
   },
   "outputs": [],
   "source": [
    "df1 = df.drop('date_published', axis=1)\n",
    "df1 = df1.drop('Unnamed: 0', axis=1)\n",
    "df1 = df1.drop('unique_pageviews', axis=1)\n",
    "df1['post_id'] = df1['post_id'].astype(str)\n",
    "df1['page_title'] = df1['page_title'].astype(str)"
   ]
  },
  {
   "cell_type": "code",
   "execution_count": 783,
   "metadata": {
    "collapsed": true
   },
   "outputs": [],
   "source": [
    "s = pd.to_datetime(s, format='%Y-%m-%d')"
   ]
  },
  {
   "cell_type": "code",
   "execution_count": 784,
   "metadata": {
    "collapsed": true
   },
   "outputs": [],
   "source": [
    "df1 = pd.concat([df1, s], axis=1)"
   ]
  },
  {
   "cell_type": "code",
   "execution_count": 785,
   "metadata": {
    "collapsed": false
   },
   "outputs": [
    {
     "name": "stdout",
     "output_type": "stream",
     "text": [
      "<class 'pandas.core.frame.DataFrame'>\n",
      "Int64Index: 1170 entries, 0 to 1169\n",
      "Data columns (total 6 columns):\n",
      "post_id           1170 non-null object\n",
      "Pageviews         1170 non-null int64\n",
      "p_new_sessions    1170 non-null float64\n",
      "time_on_page      1170 non-null float64\n",
      "page_title        1170 non-null object\n",
      "date_published    1169 non-null datetime64[ns]\n",
      "dtypes: datetime64[ns](1), float64(2), int64(1), object(2)\n",
      "memory usage: 64.0+ KB\n"
     ]
    }
   ],
   "source": [
    "df1.info()"
   ]
  },
  {
   "cell_type": "code",
   "execution_count": null,
   "metadata": {
    "collapsed": true
   },
   "outputs": [],
   "source": []
  },
  {
   "cell_type": "code",
   "execution_count": null,
   "metadata": {
    "collapsed": true
   },
   "outputs": [],
   "source": []
  },
  {
   "cell_type": "markdown",
   "metadata": {
    "collapsed": true
   },
   "source": [
    "# Adding Parts of speech counts "
   ]
  },
  {
   "cell_type": "code",
   "execution_count": 786,
   "metadata": {
    "collapsed": false
   },
   "outputs": [],
   "source": [
    "titles = df1['page_title']\n",
    "df1['Noun'] = np.nan\n",
    "df1['Verb'] = np.nan\n",
    "df1['AdJ'] = np.nan\n",
    "df1['Det'] = np.nan\n",
    "\n",
    "\n",
    "nounsCount= []\n",
    "verbCount= []\n",
    "adjCount= []\n",
    "detCount= []\n",
    "\n",
    "\n",
    "nlp = English()\n",
    "for title in titles:\n",
    "    doc = nlp(unicode(title, 'utf-8'))\n",
    "    nouns = [el.lemma_ for el in doc if el.pos == spacy.parts_of_speech.NOUN]\n",
    "    nounsCount.append(len(nouns)) \n",
    "    verbs = [el.lemma_ for el in doc if el.pos == spacy.parts_of_speech.VERB]\n",
    "    verbCount.append(len(verbs)) \n",
    "    adj = [el.lemma_ for el in doc if el.pos == spacy.parts_of_speech.ADJ]  \n",
    "    adjCount.append(len(adj)) \n",
    "    det = [el.lemma_ for el in doc if el.pos == spacy.parts_of_speech.DET]  \n",
    "    detCount.append(len(det)) \n",
    "    "
   ]
  },
  {
   "cell_type": "code",
   "execution_count": 787,
   "metadata": {
    "collapsed": true
   },
   "outputs": [],
   "source": [
    "df1['Noun'] = nounsCount\n",
    "df1['Verb'] = verbCount\n",
    "df1['AdJ'] = adjCount\n",
    "df1['Det'] = detCount\n"
   ]
  },
  {
   "cell_type": "code",
   "execution_count": 788,
   "metadata": {
    "collapsed": false
   },
   "outputs": [
    {
     "data": {
      "text/html": [
       "<div>\n",
       "<table border=\"1\" class=\"dataframe\">\n",
       "  <thead>\n",
       "    <tr style=\"text-align: right;\">\n",
       "      <th></th>\n",
       "      <th>post_id</th>\n",
       "      <th>Pageviews</th>\n",
       "      <th>p_new_sessions</th>\n",
       "      <th>time_on_page</th>\n",
       "      <th>page_title</th>\n",
       "      <th>date_published</th>\n",
       "      <th>Noun</th>\n",
       "      <th>Verb</th>\n",
       "      <th>AdJ</th>\n",
       "      <th>Det</th>\n",
       "    </tr>\n",
       "  </thead>\n",
       "  <tbody>\n",
       "    <tr>\n",
       "      <th>0</th>\n",
       "      <td>455553.0</td>\n",
       "      <td>80687</td>\n",
       "      <td>0.008</td>\n",
       "      <td>0.059</td>\n",
       "      <td>11 Fastest 40-Yard Dashes in NFL History</td>\n",
       "      <td>2016-02-27 13:35:00</td>\n",
       "      <td>4</td>\n",
       "      <td>1</td>\n",
       "      <td>0</td>\n",
       "      <td>0</td>\n",
       "    </tr>\n",
       "    <tr>\n",
       "      <th>1</th>\n",
       "      <td>436259.0</td>\n",
       "      <td>80437</td>\n",
       "      <td>0.008</td>\n",
       "      <td>0.053</td>\n",
       "      <td>NFL's Oldest: 7 Quarterbacks Who Played into T...</td>\n",
       "      <td>2016-01-25 05:53:00</td>\n",
       "      <td>5</td>\n",
       "      <td>1</td>\n",
       "      <td>1</td>\n",
       "      <td>0</td>\n",
       "    </tr>\n",
       "    <tr>\n",
       "      <th>2</th>\n",
       "      <td>496982.0</td>\n",
       "      <td>64949</td>\n",
       "      <td>0.008</td>\n",
       "      <td>0.060</td>\n",
       "      <td>The NFL's 10 Greatest Players of All ­Time</td>\n",
       "      <td>2015-10-09 16:59:00</td>\n",
       "      <td>4</td>\n",
       "      <td>0</td>\n",
       "      <td>0</td>\n",
       "      <td>2</td>\n",
       "    </tr>\n",
       "    <tr>\n",
       "      <th>3</th>\n",
       "      <td>456241.0</td>\n",
       "      <td>60536</td>\n",
       "      <td>0.008</td>\n",
       "      <td>0.058</td>\n",
       "      <td>The 7 Richest NFL Players of All Time</td>\n",
       "      <td>2016-01-17 14:20:00</td>\n",
       "      <td>4</td>\n",
       "      <td>0</td>\n",
       "      <td>0</td>\n",
       "      <td>2</td>\n",
       "    </tr>\n",
       "    <tr>\n",
       "      <th>4</th>\n",
       "      <td>476680.0</td>\n",
       "      <td>51959</td>\n",
       "      <td>0.008</td>\n",
       "      <td>0.048</td>\n",
       "      <td>The 10 Greatest NFL Wide Receivers of All Time</td>\n",
       "      <td>2015-12-31 12:28:01</td>\n",
       "      <td>4</td>\n",
       "      <td>0</td>\n",
       "      <td>1</td>\n",
       "      <td>2</td>\n",
       "    </tr>\n",
       "  </tbody>\n",
       "</table>\n",
       "</div>"
      ],
      "text/plain": [
       "    post_id  Pageviews  p_new_sessions  time_on_page  \\\n",
       "0  455553.0      80687           0.008         0.059   \n",
       "1  436259.0      80437           0.008         0.053   \n",
       "2  496982.0      64949           0.008         0.060   \n",
       "3  456241.0      60536           0.008         0.058   \n",
       "4  476680.0      51959           0.008         0.048   \n",
       "\n",
       "                                          page_title      date_published  \\\n",
       "0           11 Fastest 40-Yard Dashes in NFL History 2016-02-27 13:35:00   \n",
       "1  NFL's Oldest: 7 Quarterbacks Who Played into T... 2016-01-25 05:53:00   \n",
       "2         The NFL's 10 Greatest Players of All ­Time 2015-10-09 16:59:00   \n",
       "3              The 7 Richest NFL Players of All Time 2016-01-17 14:20:00   \n",
       "4     The 10 Greatest NFL Wide Receivers of All Time 2015-12-31 12:28:01   \n",
       "\n",
       "   Noun  Verb  AdJ  Det  \n",
       "0     4     1    0    0  \n",
       "1     5     1    1    0  \n",
       "2     4     0    0    2  \n",
       "3     4     0    0    2  \n",
       "4     4     0    1    2  "
      ]
     },
     "execution_count": 788,
     "metadata": {},
     "output_type": "execute_result"
    }
   ],
   "source": [
    "df1.head()"
   ]
  },
  {
   "cell_type": "code",
   "execution_count": 789,
   "metadata": {
    "collapsed": false
   },
   "outputs": [],
   "source": [
    "df2 = df1.copy()"
   ]
  },
  {
   "cell_type": "code",
   "execution_count": 790,
   "metadata": {
    "collapsed": false
   },
   "outputs": [],
   "source": [
    "#trying to make question col\n",
    "\n",
    "#question = ['what','where','why','how','who','when']\n",
    "#df1['quest'] = np.nan\n",
    "\n",
    "#titles = df1['page_title']\n",
    "#quest= []\n",
    "\n",
    "#for title in titles:\n",
    "    #for word in question:\n",
    "       # if title==word:\n",
    "        #    quest.append(1)\n",
    "    #else: quest.append(0)\n",
    "\n",
    "#for word in question:\n",
    "    #if word == question:\n",
    "        #quest.append(1)\n",
    "#else:return 0\n",
    "    \n",
    "    \n",
    "    #doc = nlp(unicode(title, 'utf-8'))\n",
    "    #nouns = [el.lemma_ for el in doc if el.pos == spacy.parts_of_speech.NOUN]\n",
    "    #nounsCount.append(len(nouns)) "
   ]
  },
  {
   "cell_type": "code",
   "execution_count": 791,
   "metadata": {
    "collapsed": true
   },
   "outputs": [],
   "source": [
    "#df1.head(50)"
   ]
  },
  {
   "cell_type": "code",
   "execution_count": 98,
   "metadata": {
    "collapsed": false
   },
   "outputs": [],
   "source": [
    "\n",
    "#df1['h_ofalltime'] = df1['page_title'].str.contains('of all time').astype(int)\n",
    "#df1['h_nfl'] = df1['page_title'].str.contains('nfl').astype(int)\n",
    "#df1['h_10greatest'] = df1['page_title'].str.contains('10 greatest').astype(int)\n",
    "#df1['h_nba'] = df1['page_title'].str.contains('nba').astype(int)\n",
    "#df1['h_players'] = df1['page_title'].str.contains('players').astype(int)\n",
    "#df1['h_best'] = df1['page_title'].str.contains('best').astype(int)\n",
    "#df1['h_history'] = df1['page_title'].str.contains('history').astype(int)\n",
    "#df1['h_highest'] = df1['page_title'].str.contains('highest').astype(int)\n"
   ]
  },
  {
   "cell_type": "code",
   "execution_count": 100,
   "metadata": {
    "collapsed": false
   },
   "outputs": [],
   "source": [
    "#df1['h_ofalltime'].map({1: 0.006025, 0: 0})"
   ]
  },
  {
   "cell_type": "code",
   "execution_count": 729,
   "metadata": {
    "collapsed": false
   },
   "outputs": [],
   "source": [
    "\n",
    "#df1['h_ofalltime'] = df1['h_ofalltime'].map({1: 0.006025, 0: 0}) \n",
    "#df1['h_nfl'] = df1['h_ofalltime'].map({1: 0.005880, 0: 0})\n",
    "#df1['h_10greatest'] = df1['h_ofalltime'].map({1: 0.005665, 0: 0})\n",
    "#df1['h_nba'] = df1['h_ofalltime'].map({1: 0.005173, 0: 0})\n",
    "#df1['h_players'] = df1['h_ofalltime'].map({1: 0.005150, 0: 0})\n",
    "#df1['h_best'] = df1['h_ofalltime'].map({1: 0.004592, 0: 0})\n",
    "#df1['h_history'] = df1['h_ofalltime'].map({1: 0.004508, 0: 0})\n",
    "#df1['h_highest'] = df1['h_ofalltime'].map({1: 0.004461, 0: 0})\n",
    "\n"
   ]
  },
  {
   "cell_type": "code",
   "execution_count": 792,
   "metadata": {
    "collapsed": false
   },
   "outputs": [],
   "source": [
    "#Splitting up first 3 words \n",
    "df1['word1'] = df1.page_title.apply(lambda x: x.split()[0]).astype(str)\n",
    "df1['word2'] = df1.page_title.apply(lambda x: x.split()[1:2]).astype(str)\n",
    "df1['word3'] = df1.page_title.apply(lambda x: x.split()[2:3]).astype(str)"
   ]
  },
  {
   "cell_type": "code",
   "execution_count": 793,
   "metadata": {
    "collapsed": false,
    "scrolled": true
   },
   "outputs": [],
   "source": [
    "#Clean\n",
    "df1['word2'] = [x.replace(']', '') for x in df1['word2']]\n",
    "df1['word2'] = [x.replace('[', '') for x in df1['word2']]\n",
    "df1['word2'] = [x.replace('' '', '') for x in df1['word2']]\n",
    "df1['word3'] = [x.replace('[', '') for x in df1['word3']]\n",
    "df1['word3'] = [x.replace(']', '') for x in df1['word3']]"
   ]
  },
  {
   "cell_type": "markdown",
   "metadata": {},
   "source": [
    "Unfortunately I could only find out the order of if there were numbers and if there was the word \"The\" in the first postition\n",
    "\n",
    "I wanted to:\n",
    "- Split each word (of the first 3 words) into their own col.\n",
    "- Scan what part of speech they were\n",
    "- Create a tally system to find out the ouder of each title (i.e num,noun,verb/\"The\",num,verb)\n",
    "- Turn those tallies into strings so I can group them and find out how many are in each group"
   ]
  },
  {
   "cell_type": "code",
   "execution_count": 550,
   "metadata": {
    "collapsed": false
   },
   "outputs": [],
   "source": [
    "#word1 = df1['word1']\n",
    "#df1['Noun1'] = np.nan\n",
    "#df1['Verb1'] = np.nan\n",
    "#df1['Adverb'] = np.nan\n",
    "#df1['Num'] = np.nan\n",
    "\n",
    "#nounsCount1= []\n",
    "#verbCount1= []\n",
    "#adCount= []\n",
    "#numCount= []\n",
    "\n",
    "#nlp = English()\n",
    "#for word in word1:\n",
    "    #doc = nlp(unicode(title, 'utf-8'))\n",
    "    #nouns = [el.lemma_ for el in doc if el.pos == spacy.parts_of_speech.ADJ]\n",
    "    #nounsCount1.append(len(nouns)) \n",
    "    #verbs = [el.lemma_ for el in doc if el.pos == spacy.parts_of_speech.VERB]\n",
    "    #verbCount1.append(len(verbs)) \n",
    "    \n",
    "#df1['Noun1'] = nounsCount1\n",
    "#df1['Verb1'] = verbCount1"
   ]
  },
  {
   "cell_type": "code",
   "execution_count": 551,
   "metadata": {
    "collapsed": false
   },
   "outputs": [],
   "source": [
    "#df1 = df1.drop('Noun1', axis=1)"
   ]
  },
  {
   "cell_type": "code",
   "execution_count": 462,
   "metadata": {
    "collapsed": false
   },
   "outputs": [],
   "source": [
    "#word2 = df1['word2']\n",
    "#df1['Noun2'] = np.nan\n",
    "#df1['Verb2'] = np.nan\n",
    "#df1['Adverb'] = np.nan\n",
    "#df1['Num'] = np.nan\n",
    "\n",
    "#nounsCount2= []\n",
    "#verbCount2= []\n",
    "#adCount= []\n",
    "#numCount= []\n",
    "\n",
    "#nlp = English()\n",
    "#for word in word2:\n",
    "    #doc = nlp(unicode(title, 'utf-8'))\n",
    "    #nouns = [el.lemma_ for el in doc if el.pos == spacy.parts_of_speech.NOUN]\n",
    "    #nounsCount2.append(len(nouns)) \n",
    "    #verbs = [el.lemma_ for el in doc if el.pos == spacy.parts_of_speech.VERB]\n",
    "    #verbCount2.append(len(verbs)) \n",
    "    \n",
    "#df1['Noun2'] = nounsCount2\n",
    "#df1['Verb2'] = verbCount2\n"
   ]
  },
  {
   "cell_type": "code",
   "execution_count": 757,
   "metadata": {
    "collapsed": true
   },
   "outputs": [],
   "source": [
    "#word3 = df1['word3']\n",
    "#df1['Noun3'] = np.nan\n",
    "#df1['Verb3'] = np.nan\n",
    "#df1['Adverb'] = np.nan\n",
    "#df1['Num'] = np.nan\n",
    "\n",
    "#nounsCount3= []\n",
    "#verbCount3= []\n",
    "#adCount= []\n",
    "#numCount= []\n",
    "\n",
    "#nlp = English()\n",
    "#for word in word3:\n",
    "    #doc = nlp(unicode(title, 'utf-8'))\n",
    "    #nouns = [el.lemma_ for el in doc if el.pos == spacy.parts_of_speech.ADJ]\n",
    "    #nounsCount3.append(len(nouns)) \n",
    "    #verbs = [el.lemma_ for el in doc if el.pos == spacy.parts_of_speech.VERB]\n",
    "    #verbCount3.append(len(verbs)) \n",
    "    \n",
    "#df1['Noun3'] = nounsCount3\n",
    "#df1['Verb3'] = verbCount3"
   ]
  },
  {
   "cell_type": "code",
   "execution_count": 794,
   "metadata": {
    "collapsed": false
   },
   "outputs": [],
   "source": [
    "df1['The'] = df1['word1'].str.contains('The').astype(int)/500000\n",
    "df1['0.1'] = df1['word1'].str.contains('0').astype(int)/10\n",
    "df1['1.1'] = df1['word1'].str.contains('1').astype(int)/10\n",
    "df1['2.1'] = df1['word1'].str.contains('2').astype(int)/10\n",
    "df1['3.1'] = df1['word1'].str.contains('3').astype(int)/10\n",
    "df1['4.1'] = df1['word1'].str.contains('4').astype(int)/10\n",
    "df1['5.1'] = df1['word1'].str.contains('5').astype(int)/10\n",
    "df1['6.1'] = df1['word1'].str.contains('6').astype(int)/10\n",
    "df1['7.1'] = df1['word1'].str.contains('7').astype(int)/10\n",
    "df1['8.1'] = df1['word1'].str.contains('8').astype(int)/10\n",
    "df1['9.1'] = df1['word1'].str.contains('9').astype(int)/10\n",
    "\n",
    "df1['0.2'] = df1['word2'].str.contains('0').astype(int)/100\n",
    "df1['1.2'] = df1['word2'].str.contains('1').astype(int)/100\n",
    "df1['2.2'] = df1['word2'].str.contains('2').astype(int)/100\n",
    "df1['3.2'] = df1['word2'].str.contains('3').astype(int)/100\n",
    "df1['4.2'] = df1['word2'].str.contains('4').astype(int)/100\n",
    "df1['5.2'] = df1['word2'].str.contains('5').astype(int)/100\n",
    "df1['6.2'] = df1['word2'].str.contains('6').astype(int)/100\n",
    "df1['7.2'] = df1['word2'].str.contains('7').astype(int)/100\n",
    "df1['8.2'] = df1['word2'].str.contains('8').astype(int)/100\n",
    "df1['9.2'] = df1['word2'].str.contains('9').astype(int)/100\n",
    "\n",
    "df1['0.3'] = df1['word2'].str.contains('0').astype(int)/1000\n",
    "df1['1.3'] = df1['word2'].str.contains('1').astype(int)/1000\n",
    "df1['2.3'] = df1['word2'].str.contains('2').astype(int)/1000\n",
    "df1['3.3'] = df1['word2'].str.contains('3').astype(int)/1000\n",
    "df1['4.3'] = df1['word2'].str.contains('4').astype(int)/1000\n",
    "df1['5.3'] = df1['word2'].str.contains('5').astype(int)/1000\n",
    "df1['6.3'] = df1['word2'].str.contains('6').astype(int)/1000\n",
    "df1['7.3'] = df1['word2'].str.contains('7').astype(int)/1000\n",
    "df1['8.3'] = df1['word2'].str.contains('8').astype(int)/1000\n",
    "df1['9.3'] = df1['word2'].str.contains('9').astype(int)/1000\n"
   ]
  },
  {
   "cell_type": "code",
   "execution_count": 795,
   "metadata": {
    "collapsed": false
   },
   "outputs": [],
   "source": [
    "\n",
    "df1['composition'] = df1['The'] + df1['0.1'] + df1['1.1'] + df1['2.1'] + df1['3.1'] + \\\n",
    "df1['4.1'] + df1['5.1'] + df1['6.1'] + df1['7.1'] + df1['8.1'] + df1['9.1'] + \\\n",
    "df1['0.2'] + df1['1.2'] + df1['2.2'] + df1['3.2'] + df1['4.2'] + df1['5.2'] + \\\n",
    "df1['6.2'] + df1['7.2'] + df1['8.2'] + df1['9.2'] + df1['0.3'] + df1['1.3'] + \\\n",
    "df1['2.3'] + df1['3.3'] + df1['4.3'] + df1['5.3'] + df1['6.3'] + df1['7.3'] + \\\n",
    "df1['8.3'] + df1['9.3'] \n"
   ]
  },
  {
   "cell_type": "code",
   "execution_count": 796,
   "metadata": {
    "collapsed": true
   },
   "outputs": [],
   "source": [
    "df1.to_csv(path_or_buf='project_finalsportsSpacy')"
   ]
  },
  {
   "cell_type": "code",
   "execution_count": null,
   "metadata": {
    "collapsed": false
   },
   "outputs": [],
   "source": []
  },
  {
   "cell_type": "code",
   "execution_count": 490,
   "metadata": {
    "collapsed": true
   },
   "outputs": [],
   "source": [
    "#from spacy.en import English\n",
    "#parser = English()\n"
   ]
  },
  {
   "cell_type": "code",
   "execution_count": 760,
   "metadata": {
    "collapsed": true
   },
   "outputs": [],
   "source": [
    "#example = df['page_title']\n",
    "#parsedEx = parser(example)\n",
    "#for token in parsedEx:\n",
    "    #print(token.orth_, token.ent_type_ if token.ent_type_ != \"\" else \"(not an entity)\")\n",
    "\n",
    "#print(\"-------------- entities only ---------------\")\n",
    "# if you just want the entities and nothing else, you can do access the parsed examples \"ents\" property like this:\n",
    "#ents = list(parsedEx.ents)\n",
    "#for entity in ents:\n",
    "    #print(entity.label, entity.label_, ' '.join(t.orth_ for t in entity))"
   ]
  },
  {
   "cell_type": "markdown",
   "metadata": {
    "collapsed": false
   },
   "source": [
    "# How many titles fit into each category?"
   ]
  },
  {
   "cell_type": "code",
   "execution_count": 797,
   "metadata": {
    "collapsed": false
   },
   "outputs": [
    {
     "data": {
      "text/plain": [
       "0.000    595\n",
       "0.011    181\n",
       "0.100    152\n",
       "0.011    113\n",
       "0.200     31\n",
       "0.000     24\n",
       "0.022     23\n",
       "0.022     19\n",
       "0.044     17\n",
       "0.400      8\n",
       "0.044      5\n",
       "0.244      1\n",
       "0.033      1\n",
       "Name: composition, dtype: int64"
      ]
     },
     "execution_count": 797,
     "metadata": {},
     "output_type": "execute_result"
    }
   ],
   "source": [
    "df1['composition'].value_counts()\n"
   ]
  },
  {
   "cell_type": "code",
   "execution_count": null,
   "metadata": {
    "collapsed": true
   },
   "outputs": [],
   "source": []
  },
  {
   "cell_type": "code",
   "execution_count": 798,
   "metadata": {
    "collapsed": false
   },
   "outputs": [],
   "source": [
    "k = df1['composition'].astype(str)"
   ]
  },
  {
   "cell_type": "code",
   "execution_count": 799,
   "metadata": {
    "collapsed": false
   },
   "outputs": [],
   "source": [
    "df3 = pd.concat([df2, k], axis=1)"
   ]
  },
  {
   "cell_type": "code",
   "execution_count": 800,
   "metadata": {
    "collapsed": false
   },
   "outputs": [
    {
     "data": {
      "text/html": [
       "<div>\n",
       "<table border=\"1\" class=\"dataframe\">\n",
       "  <thead>\n",
       "    <tr style=\"text-align: right;\">\n",
       "      <th></th>\n",
       "      <th>post_id</th>\n",
       "      <th>Pageviews</th>\n",
       "      <th>p_new_sessions</th>\n",
       "      <th>time_on_page</th>\n",
       "      <th>page_title</th>\n",
       "      <th>date_published</th>\n",
       "      <th>Noun</th>\n",
       "      <th>Verb</th>\n",
       "      <th>AdJ</th>\n",
       "      <th>Det</th>\n",
       "      <th>composition</th>\n",
       "    </tr>\n",
       "  </thead>\n",
       "  <tbody>\n",
       "    <tr>\n",
       "      <th>0</th>\n",
       "      <td>455553.0</td>\n",
       "      <td>80687</td>\n",
       "      <td>0.008</td>\n",
       "      <td>0.059</td>\n",
       "      <td>11 Fastest 40-Yard Dashes in NFL History</td>\n",
       "      <td>2016-02-27 13:35:00</td>\n",
       "      <td>4</td>\n",
       "      <td>1</td>\n",
       "      <td>0</td>\n",
       "      <td>0</td>\n",
       "      <td>0.1</td>\n",
       "    </tr>\n",
       "    <tr>\n",
       "      <th>1</th>\n",
       "      <td>436259.0</td>\n",
       "      <td>80437</td>\n",
       "      <td>0.008</td>\n",
       "      <td>0.053</td>\n",
       "      <td>NFL's Oldest: 7 Quarterbacks Who Played into T...</td>\n",
       "      <td>2016-01-25 05:53:00</td>\n",
       "      <td>5</td>\n",
       "      <td>1</td>\n",
       "      <td>1</td>\n",
       "      <td>0</td>\n",
       "      <td>0.0</td>\n",
       "    </tr>\n",
       "    <tr>\n",
       "      <th>2</th>\n",
       "      <td>496982.0</td>\n",
       "      <td>64949</td>\n",
       "      <td>0.008</td>\n",
       "      <td>0.060</td>\n",
       "      <td>The NFL's 10 Greatest Players of All ­Time</td>\n",
       "      <td>2015-10-09 16:59:00</td>\n",
       "      <td>4</td>\n",
       "      <td>0</td>\n",
       "      <td>0</td>\n",
       "      <td>2</td>\n",
       "      <td>2e-06</td>\n",
       "    </tr>\n",
       "    <tr>\n",
       "      <th>3</th>\n",
       "      <td>456241.0</td>\n",
       "      <td>60536</td>\n",
       "      <td>0.008</td>\n",
       "      <td>0.058</td>\n",
       "      <td>The 7 Richest NFL Players of All Time</td>\n",
       "      <td>2016-01-17 14:20:00</td>\n",
       "      <td>4</td>\n",
       "      <td>0</td>\n",
       "      <td>0</td>\n",
       "      <td>2</td>\n",
       "      <td>0.011002</td>\n",
       "    </tr>\n",
       "    <tr>\n",
       "      <th>4</th>\n",
       "      <td>476680.0</td>\n",
       "      <td>51959</td>\n",
       "      <td>0.008</td>\n",
       "      <td>0.048</td>\n",
       "      <td>The 10 Greatest NFL Wide Receivers of All Time</td>\n",
       "      <td>2015-12-31 12:28:01</td>\n",
       "      <td>4</td>\n",
       "      <td>0</td>\n",
       "      <td>1</td>\n",
       "      <td>2</td>\n",
       "      <td>0.022002</td>\n",
       "    </tr>\n",
       "  </tbody>\n",
       "</table>\n",
       "</div>"
      ],
      "text/plain": [
       "    post_id  Pageviews  p_new_sessions  time_on_page  \\\n",
       "0  455553.0      80687           0.008         0.059   \n",
       "1  436259.0      80437           0.008         0.053   \n",
       "2  496982.0      64949           0.008         0.060   \n",
       "3  456241.0      60536           0.008         0.058   \n",
       "4  476680.0      51959           0.008         0.048   \n",
       "\n",
       "                                          page_title      date_published  \\\n",
       "0           11 Fastest 40-Yard Dashes in NFL History 2016-02-27 13:35:00   \n",
       "1  NFL's Oldest: 7 Quarterbacks Who Played into T... 2016-01-25 05:53:00   \n",
       "2         The NFL's 10 Greatest Players of All ­Time 2015-10-09 16:59:00   \n",
       "3              The 7 Richest NFL Players of All Time 2016-01-17 14:20:00   \n",
       "4     The 10 Greatest NFL Wide Receivers of All Time 2015-12-31 12:28:01   \n",
       "\n",
       "   Noun  Verb  AdJ  Det composition  \n",
       "0     4     1    0    0         0.1  \n",
       "1     5     1    1    0         0.0  \n",
       "2     4     0    0    2       2e-06  \n",
       "3     4     0    0    2    0.011002  \n",
       "4     4     0    1    2    0.022002  "
      ]
     },
     "execution_count": 800,
     "metadata": {},
     "output_type": "execute_result"
    }
   ],
   "source": [
    "df3.head()\n"
   ]
  },
  {
   "cell_type": "code",
   "execution_count": null,
   "metadata": {
    "collapsed": true
   },
   "outputs": [],
   "source": []
  },
  {
   "cell_type": "code",
   "execution_count": 801,
   "metadata": {
    "collapsed": false
   },
   "outputs": [],
   "source": [
    "df3['class'] = df3['Pageviews'].apply(lambda x: x>1000).astype(int)"
   ]
  },
  {
   "cell_type": "code",
   "execution_count": 766,
   "metadata": {
    "collapsed": false
   },
   "outputs": [],
   "source": [
    "df3c = df3[df3['class'] == 1]\n",
    "df3o = df3[df3['class'] == 0]\n",
    "\n"
   ]
  },
  {
   "cell_type": "code",
   "execution_count": 767,
   "metadata": {
    "collapsed": false,
    "scrolled": true
   },
   "outputs": [
    {
     "data": {
      "text/plain": [
       "0.0         109\n",
       "0.011        50\n",
       "0.011002     38\n",
       "0.1          38\n",
       "0.2          15\n",
       "0.022002     10\n",
       "2e-06         6\n",
       "0.022         6\n",
       "Name: composition, dtype: int64"
      ]
     },
     "execution_count": 767,
     "metadata": {},
     "output_type": "execute_result"
    }
   ],
   "source": [
    "df3c.composition.value_counts()\n",
    "    "
   ]
  },
  {
   "cell_type": "code",
   "execution_count": 768,
   "metadata": {
    "collapsed": false
   },
   "outputs": [
    {
     "data": {
      "text/plain": [
       "0.0         486\n",
       "0.011       131\n",
       "0.1         114\n",
       "0.011002     75\n",
       "2e-06        18\n",
       "0.044        17\n",
       "0.022        17\n",
       "0.2          16\n",
       "0.022002      9\n",
       "0.4           8\n",
       "0.044002      5\n",
       "0.033         1\n",
       "0.244         1\n",
       "Name: composition, dtype: int64"
      ]
     },
     "execution_count": 768,
     "metadata": {},
     "output_type": "execute_result"
    }
   ],
   "source": [
    "df3o.composition.value_counts()"
   ]
  },
  {
   "cell_type": "code",
   "execution_count": 802,
   "metadata": {
    "collapsed": false
   },
   "outputs": [],
   "source": [
    "df3['DayofWeek'] = df3['date_published'].apply(lambda x: x.isoweekday())\n",
    "df3.set_index('date_published', inplace=True)\n",
    "df3['hour'] = df3.index.hour"
   ]
  },
  {
   "cell_type": "code",
   "execution_count": 803,
   "metadata": {
    "collapsed": false
   },
   "outputs": [
    {
     "data": {
      "text/plain": [
       "0    898\n",
       "1    272\n",
       "Name: class, dtype: int64"
      ]
     },
     "execution_count": 803,
     "metadata": {},
     "output_type": "execute_result"
    }
   ],
   "source": [
    "df3['class'].value_counts()"
   ]
  },
  {
   "cell_type": "code",
   "execution_count": 771,
   "metadata": {
    "collapsed": false
   },
   "outputs": [],
   "source": [
    "df3.to_csv(path_or_buf='project_finalsportsLog')"
   ]
  },
  {
   "cell_type": "code",
   "execution_count": 804,
   "metadata": {
    "collapsed": false
   },
   "outputs": [],
   "source": [
    "#scale = StandardScaler()\n",
    "#X_scale = pd.DataFrame(scale.fit_transform(X))\n",
    "#X_scale.columns = X.columns\n",
    "df3 = df3.drop('page_title', axis=1)\n",
    "\n",
    "\n"
   ]
  },
  {
   "cell_type": "code",
   "execution_count": 805,
   "metadata": {
    "collapsed": true
   },
   "outputs": [],
   "source": [
    "from sklearn.preprocessing import StandardScaler\n",
    "from sklearn.cross_validation import train_test_split, ShuffleSplit\n",
    "from sklearn.grid_search import GridSearchCV\n"
   ]
  },
  {
   "cell_type": "code",
   "execution_count": 806,
   "metadata": {
    "collapsed": false
   },
   "outputs": [],
   "source": [
    "df3 = df3.dropna(axis=0)"
   ]
  },
  {
   "cell_type": "code",
   "execution_count": 807,
   "metadata": {
    "collapsed": true
   },
   "outputs": [],
   "source": [
    "X = df3.drop('class',axis=1).copy()\n",
    "y = df3['class']"
   ]
  },
  {
   "cell_type": "code",
   "execution_count": 808,
   "metadata": {
    "collapsed": false
   },
   "outputs": [],
   "source": [
    "X_train, X_test, y_train, y_test = train_test_split(X, y, test_size=0.25, random_state=7)"
   ]
  },
  {
   "cell_type": "code",
   "execution_count": 809,
   "metadata": {
    "collapsed": false
   },
   "outputs": [
    {
     "data": {
      "text/plain": [
       "StandardScaler(copy=True, with_mean=True, with_std=True)"
      ]
     },
     "execution_count": 809,
     "metadata": {},
     "output_type": "execute_result"
    }
   ],
   "source": [
    "scale = StandardScaler()\n",
    "scale.fit(X_train)"
   ]
  },
  {
   "cell_type": "code",
   "execution_count": 810,
   "metadata": {
    "collapsed": true
   },
   "outputs": [],
   "source": [
    "X_train_std = scale.transform(X_train)\n",
    "X_test_std = scale.transform(X_test)"
   ]
  },
  {
   "cell_type": "code",
   "execution_count": 811,
   "metadata": {
    "collapsed": false
   },
   "outputs": [
    {
     "data": {
      "text/plain": [
       "KMeans(copy_x=True, init='k-means++', max_iter=300, n_clusters=3, n_init=20,\n",
       "    n_jobs=1, precompute_distances='auto', random_state=None, tol=0.0001,\n",
       "    verbose=0)"
      ]
     },
     "execution_count": 811,
     "metadata": {},
     "output_type": "execute_result"
    }
   ],
   "source": [
    "km = KMeans(n_clusters=3, n_init=20)\n",
    "km.fit(X_train_std)"
   ]
  },
  {
   "cell_type": "code",
   "execution_count": 812,
   "metadata": {
    "collapsed": true
   },
   "outputs": [],
   "source": [
    "pd.set_option('display.float_format', lambda x: '%.3f' % x)"
   ]
  },
  {
   "cell_type": "code",
   "execution_count": 813,
   "metadata": {
    "collapsed": true
   },
   "outputs": [],
   "source": [
    "columns = {str(x): scale.inverse_transform(km.cluster_centers_[x]) for x in range(0,len(km.cluster_centers_))}"
   ]
  },
  {
   "cell_type": "code",
   "execution_count": 814,
   "metadata": {
    "collapsed": false
   },
   "outputs": [
    {
     "data": {
      "text/html": [
       "<div>\n",
       "<table border=\"1\" class=\"dataframe\">\n",
       "  <thead>\n",
       "    <tr style=\"text-align: right;\">\n",
       "      <th></th>\n",
       "      <th>0</th>\n",
       "      <th>1</th>\n",
       "      <th>2</th>\n",
       "    </tr>\n",
       "  </thead>\n",
       "  <tbody>\n",
       "    <tr>\n",
       "      <th>post_id</th>\n",
       "      <td>511278.187</td>\n",
       "      <td>573033.786</td>\n",
       "      <td>494922.917</td>\n",
       "    </tr>\n",
       "    <tr>\n",
       "      <th>Pageviews</th>\n",
       "      <td>1494.550</td>\n",
       "      <td>839.115</td>\n",
       "      <td>41197.083</td>\n",
       "    </tr>\n",
       "    <tr>\n",
       "      <th>p_new_sessions</th>\n",
       "      <td>0.008</td>\n",
       "      <td>0.006</td>\n",
       "      <td>0.008</td>\n",
       "    </tr>\n",
       "    <tr>\n",
       "      <th>time_on_page</th>\n",
       "      <td>0.001</td>\n",
       "      <td>0.001</td>\n",
       "      <td>0.038</td>\n",
       "    </tr>\n",
       "    <tr>\n",
       "      <th>Noun</th>\n",
       "      <td>4.407</td>\n",
       "      <td>5.442</td>\n",
       "      <td>3.917</td>\n",
       "    </tr>\n",
       "    <tr>\n",
       "      <th>Verb</th>\n",
       "      <td>0.870</td>\n",
       "      <td>0.921</td>\n",
       "      <td>0.417</td>\n",
       "    </tr>\n",
       "    <tr>\n",
       "      <th>AdJ</th>\n",
       "      <td>0.629</td>\n",
       "      <td>0.158</td>\n",
       "      <td>0.583</td>\n",
       "    </tr>\n",
       "    <tr>\n",
       "      <th>Det</th>\n",
       "      <td>0.916</td>\n",
       "      <td>1.022</td>\n",
       "      <td>1.167</td>\n",
       "    </tr>\n",
       "    <tr>\n",
       "      <th>composition</th>\n",
       "      <td>0.047</td>\n",
       "      <td>0.009</td>\n",
       "      <td>0.064</td>\n",
       "    </tr>\n",
       "    <tr>\n",
       "      <th>DayofWeek</th>\n",
       "      <td>4.561</td>\n",
       "      <td>3.897</td>\n",
       "      <td>4.500</td>\n",
       "    </tr>\n",
       "    <tr>\n",
       "      <th>hour</th>\n",
       "      <td>14.539</td>\n",
       "      <td>11.931</td>\n",
       "      <td>14.000</td>\n",
       "    </tr>\n",
       "  </tbody>\n",
       "</table>\n",
       "</div>"
      ],
      "text/plain": [
       "                        0          1          2\n",
       "post_id        511278.187 573033.786 494922.917\n",
       "Pageviews        1494.550    839.115  41197.083\n",
       "p_new_sessions      0.008      0.006      0.008\n",
       "time_on_page        0.001      0.001      0.038\n",
       "Noun                4.407      5.442      3.917\n",
       "Verb                0.870      0.921      0.417\n",
       "AdJ                 0.629      0.158      0.583\n",
       "Det                 0.916      1.022      1.167\n",
       "composition         0.047      0.009      0.064\n",
       "DayofWeek           4.561      3.897      4.500\n",
       "hour               14.539     11.931     14.000"
      ]
     },
     "execution_count": 814,
     "metadata": {},
     "output_type": "execute_result"
    }
   ],
   "source": [
    "pd.DataFrame(columns, index=X.columns)"
   ]
  },
  {
   "cell_type": "code",
   "execution_count": 815,
   "metadata": {
    "collapsed": false
   },
   "outputs": [
    {
     "data": {
      "text/plain": [
       "Pageviews        1738.549\n",
       "p_new_sessions      0.007\n",
       "time_on_page        0.002\n",
       "Noun                4.986\n",
       "Verb                0.876\n",
       "AdJ                 0.362\n",
       "Det                 0.997\n",
       "class               0.232\n",
       "DayofWeek           4.202\n",
       "hour               13.095\n",
       "dtype: float64"
      ]
     },
     "execution_count": 815,
     "metadata": {},
     "output_type": "execute_result"
    }
   ],
   "source": [
    "df3.mean()"
   ]
  },
  {
   "cell_type": "markdown",
   "metadata": {},
   "source": [
    "# Clusters\n",
    "    - 1\n",
    "        - Low Adj count\n",
    "        - Early in the week\n",
    "        - Earlier in the day\n",
    "        - Low Pageviews\n",
    "    - 2\n",
    "        - High time on page\n",
    "        - Low noun count\n",
    "        - Low verb count\n",
    "        - A lot of numbers\n",
    "        - High Pageviews\n",
    "        \n",
    "I would really like to explore the positioning of the parts of speech more I think this would help to further understand what makes these titles work. Because it looks like my results show that it's good to have a lot of numbers with low nouns and low verbs but that doesn't have a lot of direction attached to it. \n",
    "\n",
    "I think more data is really going to be the answer here. I tried count vectorizor and random forest to do feature importance on certain words but they were so low it wasn't worth including. If I had more data I would expect this would change."
   ]
  },
  {
   "cell_type": "code",
   "execution_count": null,
   "metadata": {
    "collapsed": true
   },
   "outputs": [],
   "source": []
  },
  {
   "cell_type": "markdown",
   "metadata": {},
   "source": [
    "# Looks like I should have between 2-6 clusters"
   ]
  },
  {
   "cell_type": "code",
   "execution_count": 816,
   "metadata": {
    "collapsed": true
   },
   "outputs": [],
   "source": [
    "from sklearn.cluster import KMeans"
   ]
  },
  {
   "cell_type": "code",
   "execution_count": 817,
   "metadata": {
    "collapsed": false
   },
   "outputs": [
    {
     "name": "stdout",
     "output_type": "stream",
     "text": [
      "CPU times: user 147 ms, sys: 22.8 ms, total: 170 ms\n",
      "Wall time: 182 ms\n"
     ]
    }
   ],
   "source": [
    "%%time\n",
    "km = KMeans(n_clusters=7, n_init=10)\n",
    "cluster_labels = km.fit_predict(df3)"
   ]
  },
  {
   "cell_type": "code",
   "execution_count": 818,
   "metadata": {
    "collapsed": false
   },
   "outputs": [
    {
     "name": "stdout",
     "output_type": "stream",
     "text": [
      "0.554339601274\n"
     ]
    }
   ],
   "source": [
    "from sklearn.metrics import silhouette_score\n",
    "print silhouette_score(X, cluster_labels)"
   ]
  },
  {
   "cell_type": "code",
   "execution_count": 819,
   "metadata": {
    "collapsed": false,
    "scrolled": true
   },
   "outputs": [
    {
     "name": "stdout",
     "output_type": "stream",
     "text": [
      "85381109223.7\n"
     ]
    }
   ],
   "source": [
    "print km.inertia_\n"
   ]
  },
  {
   "cell_type": "code",
   "execution_count": 580,
   "metadata": {
    "collapsed": false
   },
   "outputs": [
    {
     "data": {
      "text/plain": [
       "[<matplotlib.lines.Line2D at 0x11bc98b50>]"
      ]
     },
     "execution_count": 580,
     "metadata": {},
     "output_type": "execute_result"
    },
    {
     "data": {
      "image/png": "[encoded data removed]",
      "text/plain": [
       "<matplotlib.figure.Figure at 0x11da10f50>"
      ]
     },
     "metadata": {},
     "output_type": "display_data"
    }
   ],
   "source": [
    "import matplotlib.pyplot as plt\n",
    "%matplotlib inline\n",
    "\n",
    "x = []\n",
    "y = []\n",
    "for n in range(1,6):\n",
    "    km2 = KMeans(n_clusters=n)\n",
    "    km2.fit(df3)\n",
    "    x.append(n)\n",
    "    y.append(km2.inertia_)\n",
    "plt.plot(x, y)"
   ]
  },
  {
   "cell_type": "code",
   "execution_count": 581,
   "metadata": {
    "collapsed": false
   },
   "outputs": [
    {
     "name": "stdout",
     "output_type": "stream",
     "text": [
      "0.575157116472\n"
     ]
    }
   ],
   "source": [
    "from sklearn.metrics import silhouette_score\n",
    "print silhouette_score(df3, cluster_labels)"
   ]
  },
  {
   "cell_type": "code",
   "execution_count": 582,
   "metadata": {
    "collapsed": false
   },
   "outputs": [
    {
     "data": {
      "text/plain": [
       "[<matplotlib.lines.Line2D at 0x144973550>]"
      ]
     },
     "execution_count": 582,
     "metadata": {},
     "output_type": "execute_result"
    },
    {
     "data": {
      "image/png": "[encoded data removed]",
      "text/plain": [
       "<matplotlib.figure.Figure at 0x11bc8f890>"
      ]
     },
     "metadata": {},
     "output_type": "display_data"
    }
   ],
   "source": [
    "x = []\n",
    "y = []\n",
    "for n in range(2,15):\n",
    "    km2 = KMeans(n_clusters=n)\n",
    "    centers = km2.fit_predict(df3)\n",
    "    x.append(n)\n",
    "    y.append(silhouette_score(df3, centers))\n",
    "plt.plot(x, y)"
   ]
  },
  {
   "cell_type": "code",
   "execution_count": null,
   "metadata": {
    "collapsed": false
   },
   "outputs": [],
   "source": []
  },
  {
   "cell_type": "code",
   "execution_count": null,
   "metadata": {
    "collapsed": true
   },
   "outputs": [],
   "source": []
  }
 ],
 "metadata": {
  "kernelspec": {
   "display_name": "Python 2",
   "language": "python",
   "name": "python2"
  },
  "language_info": {
   "codemirror_mode": {
    "name": "ipython",
    "version": 2
   },
   "file_extension": ".py",
   "mimetype": "text/x-python",
   "name": "python",
   "nbconvert_exporter": "python",
   "pygments_lexer": "ipython2",
   "version": "2.7.11"
  }
 },
 "nbformat": 4,
 "nbformat_minor": 0
}
