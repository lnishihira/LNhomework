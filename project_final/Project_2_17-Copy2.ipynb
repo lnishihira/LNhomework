{
 "cells": [
  {
   "cell_type": "code",
   "execution_count": 1,
   "metadata": {
    "collapsed": true
   },
   "outputs": [],
   "source": [
    "import pandas as pd\n",
    "import numpy as np\n",
    "import matplotlib.pyplot as plt\n",
    "%matplotlib inline"
   ]
  },
  {
   "cell_type": "code",
   "execution_count": 2,
   "metadata": {
    "collapsed": false
   },
   "outputs": [],
   "source": [
    "df = pd.read_csv('posts.csv',index_col='id')"
   ]
  },
  {
   "cell_type": "code",
   "execution_count": 3,
   "metadata": {
    "collapsed": false
   },
   "outputs": [
    {
     "data": {
      "text/html": [
       "<div>\n",
       "<table border=\"1\" class=\"dataframe\">\n",
       "  <thead>\n",
       "    <tr style=\"text-align: right;\">\n",
       "      <th></th>\n",
       "      <th>author_id</th>\n",
       "      <th>title</th>\n",
       "      <th>permalink</th>\n",
       "      <th>publish_date</th>\n",
       "      <th>primary_category_id</th>\n",
       "      <th>number_pages</th>\n",
       "      <th>publish_date_val</th>\n",
       "    </tr>\n",
       "    <tr>\n",
       "      <th>id</th>\n",
       "      <th></th>\n",
       "      <th></th>\n",
       "      <th></th>\n",
       "      <th></th>\n",
       "      <th></th>\n",
       "      <th></th>\n",
       "      <th></th>\n",
       "    </tr>\n",
       "  </thead>\n",
       "  <tbody>\n",
       "    <tr>\n",
       "      <th>414164</th>\n",
       "      <td>1232</td>\n",
       "      <td>20 Most Memorable Quotes From Steve Jobs</td>\n",
       "      <td>20-most-memorable-quotes-from-steve-jobs</td>\n",
       "      <td>10/28/15 13:06</td>\n",
       "      <td>NaN</td>\n",
       "      <td>20</td>\n",
       "      <td>42305.54610</td>\n",
       "    </tr>\n",
       "    <tr>\n",
       "      <th>414227</th>\n",
       "      <td>79</td>\n",
       "      <td>5 Warren Buffett Approved Dividend Stocks</td>\n",
       "      <td>5-dividend-stocks-approved-by-warren-buffett</td>\n",
       "      <td>10/13/15 7:46</td>\n",
       "      <td>45376</td>\n",
       "      <td>6</td>\n",
       "      <td>42290.32363</td>\n",
       "    </tr>\n",
       "    <tr>\n",
       "      <th>415574</th>\n",
       "      <td>1333</td>\n",
       "      <td>The 10 Least Expensive States to Live in the U.S.</td>\n",
       "      <td>the-8-least-expensive-states-to-live-in-the-u-s</td>\n",
       "      <td>9/11/15 10:46</td>\n",
       "      <td>448</td>\n",
       "      <td>11</td>\n",
       "      <td>42258.44867</td>\n",
       "    </tr>\n",
       "    <tr>\n",
       "      <th>415891</th>\n",
       "      <td>1232</td>\n",
       "      <td>15 Warren Buffett Quotes for a Scary Stock Market</td>\n",
       "      <td>warren-buffetts-15-most-memorable-quotes</td>\n",
       "      <td>1/15/16 14:31</td>\n",
       "      <td>45376</td>\n",
       "      <td>15</td>\n",
       "      <td>42384.60486</td>\n",
       "    </tr>\n",
       "    <tr>\n",
       "      <th>424993</th>\n",
       "      <td>1233</td>\n",
       "      <td>8 Top Grossing Football Movies of All Time</td>\n",
       "      <td>cant-wait-for-the-nfl-here-are-8-top-football-...</td>\n",
       "      <td>11/19/15 18:31</td>\n",
       "      <td>968</td>\n",
       "      <td>8</td>\n",
       "      <td>42327.77153</td>\n",
       "    </tr>\n",
       "  </tbody>\n",
       "</table>\n",
       "</div>"
      ],
      "text/plain": [
       "        author_id                                              title  \\\n",
       "id                                                                     \n",
       "414164       1232           20 Most Memorable Quotes From Steve Jobs   \n",
       "414227         79          5 Warren Buffett Approved Dividend Stocks   \n",
       "415574       1333  The 10 Least Expensive States to Live in the U.S.   \n",
       "415891       1232  15 Warren Buffett Quotes for a Scary Stock Market   \n",
       "424993       1233         8 Top Grossing Football Movies of All Time   \n",
       "\n",
       "                                                permalink    publish_date  \\\n",
       "id                                                                          \n",
       "414164           20-most-memorable-quotes-from-steve-jobs  10/28/15 13:06   \n",
       "414227       5-dividend-stocks-approved-by-warren-buffett   10/13/15 7:46   \n",
       "415574    the-8-least-expensive-states-to-live-in-the-u-s   9/11/15 10:46   \n",
       "415891           warren-buffetts-15-most-memorable-quotes   1/15/16 14:31   \n",
       "424993  cant-wait-for-the-nfl-here-are-8-top-football-...  11/19/15 18:31   \n",
       "\n",
       "        primary_category_id  number_pages  publish_date_val  \n",
       "id                                                           \n",
       "414164                  NaN            20       42305.54610  \n",
       "414227                45376             6       42290.32363  \n",
       "415574                  448            11       42258.44867  \n",
       "415891                45376            15       42384.60486  \n",
       "424993                  968             8       42327.77153  "
      ]
     },
     "execution_count": 3,
     "metadata": {},
     "output_type": "execute_result"
    }
   ],
   "source": [
    "df.head()"
   ]
  },
  {
   "cell_type": "markdown",
   "metadata": {},
   "source": [
    "\n",
    "    What is the question you hope to answer?\n",
    "        What characteristics make a \"sucessful\" article?\n",
    "    What data are you planning to use to answer that question?\n",
    "        6 months worth of articles, a certain percentage of them did very well on SEO (page views from google)\n",
    "    What do you know about the data so far?\n",
    "        Titles containing numbers (particularly the number 5) do very well\n",
    "        Titles with the word \"best\" and \"worst\" also do very well\n",
    "    Why did you choose this topic?\n",
    "        This is a simple actionable task that I can easily get data for and continue to build on for a long time.\n",
    "        \n",
    "   This is all our organic URL's/titles we use different URL's for then we purchase traffic, this is a major source of interest for the company is where to best buy traffic with what article. My manager is very interested in getting this data for each traffic source. \n",
    "   \n",
    "   Personally what I'm interested in finding out is a mix between content analysis, advertiser analysis (only some data can be collected here) and audience analysis(from google analytics) to connect popular content to loyal users and \"elite\" advertisers. This is clearly a large undertaking and will likely be an extension of this project after this class.\n"
   ]
  },
  {
   "cell_type": "code",
   "execution_count": null,
   "metadata": {
    "collapsed": true
   },
   "outputs": [],
   "source": []
  },
  {
   "cell_type": "code",
   "execution_count": 4,
   "metadata": {
    "collapsed": false
   },
   "outputs": [],
   "source": [
    "#df1 = pd.read_csv('Analytics All Web Site Data SEO report 20160121-20160220.csv',index_col='post_id')\n"
   ]
  },
  {
   "cell_type": "code",
   "execution_count": 5,
   "metadata": {
    "collapsed": false
   },
   "outputs": [],
   "source": [
    "#df2 = pd.read_csv('Analytics All Web Site Data SEO report 20160121-20160220 (1).csv',index_col='post_id')"
   ]
  },
  {
   "cell_type": "code",
   "execution_count": 6,
   "metadata": {
    "collapsed": false
   },
   "outputs": [],
   "source": [
    "df1 = pd.read_csv('Analytics All Web Site Data SEO report 20150820-20160220 (1).csv',index_col='post_id')"
   ]
  },
  {
   "cell_type": "code",
   "execution_count": 7,
   "metadata": {
    "collapsed": true
   },
   "outputs": [],
   "source": [
    "df2 = pd.read_csv('Analytics All Web Site Data SEO report 20150820-20160220.csv',index_col='post_id')"
   ]
  },
  {
   "cell_type": "code",
   "execution_count": 8,
   "metadata": {
    "collapsed": false
   },
   "outputs": [],
   "source": [
    "frames = [df1,df2]\n",
    "df_pv = pd.concat(frames)"
   ]
  },
  {
   "cell_type": "code",
   "execution_count": 9,
   "metadata": {
    "collapsed": false
   },
   "outputs": [],
   "source": [
    "#df_pv.info"
   ]
  },
  {
   "cell_type": "code",
   "execution_count": 10,
   "metadata": {
    "collapsed": true
   },
   "outputs": [],
   "source": [
    "dfpvada = df_pv.join(df,how='inner')"
   ]
  },
  {
   "cell_type": "code",
   "execution_count": 11,
   "metadata": {
    "collapsed": false
   },
   "outputs": [
    {
     "data": {
      "text/html": [
       "<div>\n",
       "<table border=\"1\" class=\"dataframe\">\n",
       "  <thead>\n",
       "    <tr style=\"text-align: right;\">\n",
       "      <th></th>\n",
       "      <th>Page</th>\n",
       "      <th>Pageviews</th>\n",
       "      <th>author_id</th>\n",
       "      <th>title</th>\n",
       "      <th>permalink</th>\n",
       "      <th>publish_date</th>\n",
       "      <th>primary_category_id</th>\n",
       "      <th>number_pages</th>\n",
       "      <th>publish_date_val</th>\n",
       "    </tr>\n",
       "  </thead>\n",
       "  <tbody>\n",
       "    <tr>\n",
       "      <th>414164</th>\n",
       "      <td>/technology/20-most-memorable-quotes-from-stev...</td>\n",
       "      <td>461</td>\n",
       "      <td>1232</td>\n",
       "      <td>20 Most Memorable Quotes From Steve Jobs</td>\n",
       "      <td>20-most-memorable-quotes-from-steve-jobs</td>\n",
       "      <td>10/28/15 13:06</td>\n",
       "      <td>NaN</td>\n",
       "      <td>20</td>\n",
       "      <td>42305.54610</td>\n",
       "    </tr>\n",
       "    <tr>\n",
       "      <th>414164</th>\n",
       "      <td>/technology/20-most-memorable-quotes-from-stev...</td>\n",
       "      <td>128,983</td>\n",
       "      <td>1232</td>\n",
       "      <td>20 Most Memorable Quotes From Steve Jobs</td>\n",
       "      <td>20-most-memorable-quotes-from-steve-jobs</td>\n",
       "      <td>10/28/15 13:06</td>\n",
       "      <td>NaN</td>\n",
       "      <td>20</td>\n",
       "      <td>42305.54610</td>\n",
       "    </tr>\n",
       "    <tr>\n",
       "      <th>414227</th>\n",
       "      <td>/personal-finance/5-dividend-stocks-approved-b...</td>\n",
       "      <td>922</td>\n",
       "      <td>79</td>\n",
       "      <td>5 Warren Buffett Approved Dividend Stocks</td>\n",
       "      <td>5-dividend-stocks-approved-by-warren-buffett</td>\n",
       "      <td>10/13/15 7:46</td>\n",
       "      <td>45376</td>\n",
       "      <td>6</td>\n",
       "      <td>42290.32363</td>\n",
       "    </tr>\n",
       "    <tr>\n",
       "      <th>415574</th>\n",
       "      <td>/business/the-8-least-expensive-states-to-live...</td>\n",
       "      <td>211,440</td>\n",
       "      <td>1333</td>\n",
       "      <td>The 10 Least Expensive States to Live in the U.S.</td>\n",
       "      <td>the-8-least-expensive-states-to-live-in-the-u-s</td>\n",
       "      <td>9/11/15 10:46</td>\n",
       "      <td>448</td>\n",
       "      <td>11</td>\n",
       "      <td>42258.44867</td>\n",
       "    </tr>\n",
       "    <tr>\n",
       "      <th>415574</th>\n",
       "      <td>/business/the-8-least-expensive-states-to-live...</td>\n",
       "      <td>921</td>\n",
       "      <td>1333</td>\n",
       "      <td>The 10 Least Expensive States to Live in the U.S.</td>\n",
       "      <td>the-8-least-expensive-states-to-live-in-the-u-s</td>\n",
       "      <td>9/11/15 10:46</td>\n",
       "      <td>448</td>\n",
       "      <td>11</td>\n",
       "      <td>42258.44867</td>\n",
       "    </tr>\n",
       "  </tbody>\n",
       "</table>\n",
       "</div>"
      ],
      "text/plain": [
       "                                                     Page Pageviews  \\\n",
       "414164  /technology/20-most-memorable-quotes-from-stev...       461   \n",
       "414164  /technology/20-most-memorable-quotes-from-stev...   128,983   \n",
       "414227  /personal-finance/5-dividend-stocks-approved-b...       922   \n",
       "415574  /business/the-8-least-expensive-states-to-live...   211,440   \n",
       "415574  /business/the-8-least-expensive-states-to-live...       921   \n",
       "\n",
       "        author_id                                              title  \\\n",
       "414164       1232           20 Most Memorable Quotes From Steve Jobs   \n",
       "414164       1232           20 Most Memorable Quotes From Steve Jobs   \n",
       "414227         79          5 Warren Buffett Approved Dividend Stocks   \n",
       "415574       1333  The 10 Least Expensive States to Live in the U.S.   \n",
       "415574       1333  The 10 Least Expensive States to Live in the U.S.   \n",
       "\n",
       "                                              permalink    publish_date  \\\n",
       "414164         20-most-memorable-quotes-from-steve-jobs  10/28/15 13:06   \n",
       "414164         20-most-memorable-quotes-from-steve-jobs  10/28/15 13:06   \n",
       "414227     5-dividend-stocks-approved-by-warren-buffett   10/13/15 7:46   \n",
       "415574  the-8-least-expensive-states-to-live-in-the-u-s   9/11/15 10:46   \n",
       "415574  the-8-least-expensive-states-to-live-in-the-u-s   9/11/15 10:46   \n",
       "\n",
       "        primary_category_id  number_pages  publish_date_val  \n",
       "414164                  NaN            20       42305.54610  \n",
       "414164                  NaN            20       42305.54610  \n",
       "414227                45376             6       42290.32363  \n",
       "415574                  448            11       42258.44867  \n",
       "415574                  448            11       42258.44867  "
      ]
     },
     "execution_count": 11,
     "metadata": {},
     "output_type": "execute_result"
    }
   ],
   "source": [
    "dfpvada.head()"
   ]
  },
  {
   "cell_type": "code",
   "execution_count": 12,
   "metadata": {
    "collapsed": false
   },
   "outputs": [],
   "source": [
    "dfpvada1 = dfpvada.drop(['Page', 'title','number_pages','publish_date'], axis=1)\n"
   ]
  },
  {
   "cell_type": "code",
   "execution_count": 13,
   "metadata": {
    "collapsed": false
   },
   "outputs": [
    {
     "data": {
      "text/html": [
       "<div>\n",
       "<table border=\"1\" class=\"dataframe\">\n",
       "  <thead>\n",
       "    <tr style=\"text-align: right;\">\n",
       "      <th></th>\n",
       "      <th>Pageviews</th>\n",
       "      <th>author_id</th>\n",
       "      <th>permalink</th>\n",
       "      <th>primary_category_id</th>\n",
       "      <th>publish_date_val</th>\n",
       "    </tr>\n",
       "  </thead>\n",
       "  <tbody>\n",
       "    <tr>\n",
       "      <th>414164</th>\n",
       "      <td>461</td>\n",
       "      <td>1232</td>\n",
       "      <td>20-most-memorable-quotes-from-steve-jobs</td>\n",
       "      <td>NaN</td>\n",
       "      <td>42305.54610</td>\n",
       "    </tr>\n",
       "    <tr>\n",
       "      <th>414164</th>\n",
       "      <td>128,983</td>\n",
       "      <td>1232</td>\n",
       "      <td>20-most-memorable-quotes-from-steve-jobs</td>\n",
       "      <td>NaN</td>\n",
       "      <td>42305.54610</td>\n",
       "    </tr>\n",
       "    <tr>\n",
       "      <th>414227</th>\n",
       "      <td>922</td>\n",
       "      <td>79</td>\n",
       "      <td>5-dividend-stocks-approved-by-warren-buffett</td>\n",
       "      <td>45376</td>\n",
       "      <td>42290.32363</td>\n",
       "    </tr>\n",
       "    <tr>\n",
       "      <th>415574</th>\n",
       "      <td>211,440</td>\n",
       "      <td>1333</td>\n",
       "      <td>the-8-least-expensive-states-to-live-in-the-u-s</td>\n",
       "      <td>448</td>\n",
       "      <td>42258.44867</td>\n",
       "    </tr>\n",
       "    <tr>\n",
       "      <th>415574</th>\n",
       "      <td>921</td>\n",
       "      <td>1333</td>\n",
       "      <td>the-8-least-expensive-states-to-live-in-the-u-s</td>\n",
       "      <td>448</td>\n",
       "      <td>42258.44867</td>\n",
       "    </tr>\n",
       "  </tbody>\n",
       "</table>\n",
       "</div>"
      ],
      "text/plain": [
       "       Pageviews  author_id                                        permalink  \\\n",
       "414164       461       1232         20-most-memorable-quotes-from-steve-jobs   \n",
       "414164   128,983       1232         20-most-memorable-quotes-from-steve-jobs   \n",
       "414227       922         79     5-dividend-stocks-approved-by-warren-buffett   \n",
       "415574   211,440       1333  the-8-least-expensive-states-to-live-in-the-u-s   \n",
       "415574       921       1333  the-8-least-expensive-states-to-live-in-the-u-s   \n",
       "\n",
       "        primary_category_id  publish_date_val  \n",
       "414164                  NaN       42305.54610  \n",
       "414164                  NaN       42305.54610  \n",
       "414227                45376       42290.32363  \n",
       "415574                  448       42258.44867  \n",
       "415574                  448       42258.44867  "
      ]
     },
     "execution_count": 13,
     "metadata": {},
     "output_type": "execute_result"
    }
   ],
   "source": [
    "dfpvada1.head()"
   ]
  },
  {
   "cell_type": "code",
   "execution_count": 14,
   "metadata": {
    "collapsed": true
   },
   "outputs": [],
   "source": [
    "dfcat = dfpvada1.drop(['author_id', 'permalink','publish_date_val'], axis=1)\n"
   ]
  },
  {
   "cell_type": "code",
   "execution_count": 15,
   "metadata": {
    "collapsed": false
   },
   "outputs": [
    {
     "data": {
      "text/html": [
       "<div>\n",
       "<table border=\"1\" class=\"dataframe\">\n",
       "  <thead>\n",
       "    <tr style=\"text-align: right;\">\n",
       "      <th></th>\n",
       "      <th>Pageviews</th>\n",
       "      <th>primary_category_id</th>\n",
       "    </tr>\n",
       "  </thead>\n",
       "  <tbody>\n",
       "    <tr>\n",
       "      <th>414164</th>\n",
       "      <td>461</td>\n",
       "      <td>NaN</td>\n",
       "    </tr>\n",
       "    <tr>\n",
       "      <th>414164</th>\n",
       "      <td>128,983</td>\n",
       "      <td>NaN</td>\n",
       "    </tr>\n",
       "    <tr>\n",
       "      <th>414227</th>\n",
       "      <td>922</td>\n",
       "      <td>45376</td>\n",
       "    </tr>\n",
       "    <tr>\n",
       "      <th>415574</th>\n",
       "      <td>211,440</td>\n",
       "      <td>448</td>\n",
       "    </tr>\n",
       "    <tr>\n",
       "      <th>415574</th>\n",
       "      <td>921</td>\n",
       "      <td>448</td>\n",
       "    </tr>\n",
       "  </tbody>\n",
       "</table>\n",
       "</div>"
      ],
      "text/plain": [
       "       Pageviews  primary_category_id\n",
       "414164       461                  NaN\n",
       "414164   128,983                  NaN\n",
       "414227       922                45376\n",
       "415574   211,440                  448\n",
       "415574       921                  448"
      ]
     },
     "execution_count": 15,
     "metadata": {},
     "output_type": "execute_result"
    }
   ],
   "source": [
    "dfcat.head()"
   ]
  },
  {
   "cell_type": "code",
   "execution_count": 16,
   "metadata": {
    "collapsed": false
   },
   "outputs": [
    {
     "data": {
      "text/plain": [
       "(6042, 2)"
      ]
     },
     "execution_count": 16,
     "metadata": {},
     "output_type": "execute_result"
    }
   ],
   "source": [
    "dfcat.shape"
   ]
  },
  {
   "cell_type": "code",
   "execution_count": 17,
   "metadata": {
    "collapsed": true
   },
   "outputs": [],
   "source": [
    "dfcat1 = dfcat.copy()"
   ]
  },
  {
   "cell_type": "code",
   "execution_count": 18,
   "metadata": {
    "collapsed": false
   },
   "outputs": [],
   "source": [
    "dfcat1 = dfcat1.dropna()"
   ]
  },
  {
   "cell_type": "code",
   "execution_count": 19,
   "metadata": {
    "collapsed": false
   },
   "outputs": [
    {
     "data": {
      "text/plain": [
       "(5994, 2)"
      ]
     },
     "execution_count": 19,
     "metadata": {},
     "output_type": "execute_result"
    }
   ],
   "source": [
    "dfcat1.shape"
   ]
  },
  {
   "cell_type": "code",
   "execution_count": 22,
   "metadata": {
    "collapsed": false
   },
   "outputs": [
    {
     "data": {
      "text/html": [
       "<div>\n",
       "<table border=\"1\" class=\"dataframe\">\n",
       "  <thead>\n",
       "    <tr style=\"text-align: right;\">\n",
       "      <th></th>\n",
       "      <th>Pageviews</th>\n",
       "      <th>primary_category_id</th>\n",
       "    </tr>\n",
       "  </thead>\n",
       "  <tbody>\n",
       "    <tr>\n",
       "      <th>521829</th>\n",
       "      <td>1,382</td>\n",
       "      <td>448</td>\n",
       "    </tr>\n",
       "    <tr>\n",
       "      <th>524061</th>\n",
       "      <td>3,685</td>\n",
       "      <td>448</td>\n",
       "    </tr>\n",
       "    <tr>\n",
       "      <th>521829</th>\n",
       "      <td>1,382</td>\n",
       "      <td>448</td>\n",
       "    </tr>\n",
       "    <tr>\n",
       "      <th>482184</th>\n",
       "      <td>1,843</td>\n",
       "      <td>448</td>\n",
       "    </tr>\n",
       "    <tr>\n",
       "      <th>538738</th>\n",
       "      <td>921</td>\n",
       "      <td>448</td>\n",
       "    </tr>\n",
       "  </tbody>\n",
       "</table>\n",
       "</div>"
      ],
      "text/plain": [
       "       Pageviews  primary_category_id\n",
       "521829     1,382                  448\n",
       "524061     3,685                  448\n",
       "521829     1,382                  448\n",
       "482184     1,843                  448\n",
       "538738       921                  448"
      ]
     },
     "execution_count": 22,
     "metadata": {},
     "output_type": "execute_result"
    }
   ],
   "source": [
    "dfcat1.sort_values(by='primary_category_id').head()"
   ]
  },
  {
   "cell_type": "code",
   "execution_count": 21,
   "metadata": {
    "collapsed": false
   },
   "outputs": [
    {
     "data": {
      "text/html": [
       "<div>\n",
       "<table border=\"1\" class=\"dataframe\">\n",
       "  <thead>\n",
       "    <tr style=\"text-align: right;\">\n",
       "      <th></th>\n",
       "      <th>Pageviews</th>\n",
       "      <th>primary_category_id</th>\n",
       "    </tr>\n",
       "  </thead>\n",
       "  <tbody>\n",
       "    <tr>\n",
       "      <th>414227</th>\n",
       "      <td>922</td>\n",
       "      <td>45376</td>\n",
       "    </tr>\n",
       "    <tr>\n",
       "      <th>415574</th>\n",
       "      <td>211,440</td>\n",
       "      <td>448</td>\n",
       "    </tr>\n",
       "    <tr>\n",
       "      <th>415574</th>\n",
       "      <td>921</td>\n",
       "      <td>448</td>\n",
       "    </tr>\n",
       "    <tr>\n",
       "      <th>415891</th>\n",
       "      <td>9,213</td>\n",
       "      <td>45376</td>\n",
       "    </tr>\n",
       "    <tr>\n",
       "      <th>424993</th>\n",
       "      <td>5,528</td>\n",
       "      <td>968</td>\n",
       "    </tr>\n",
       "  </tbody>\n",
       "</table>\n",
       "</div>"
      ],
      "text/plain": [
       "       Pageviews  primary_category_id\n",
       "414227       922                45376\n",
       "415574   211,440                  448\n",
       "415574       921                  448\n",
       "415891     9,213                45376\n",
       "424993     5,528                  968"
      ]
     },
     "execution_count": 21,
     "metadata": {},
     "output_type": "execute_result"
    }
   ],
   "source": [
    "dfcat1.head()"
   ]
  },
  {
   "cell_type": "code",
   "execution_count": null,
   "metadata": {
    "collapsed": true
   },
   "outputs": [],
   "source": []
  }
 ],
 "metadata": {
  "kernelspec": {
   "display_name": "Python 2",
   "language": "python",
   "name": "python2"
  },
  "language_info": {
   "codemirror_mode": {
    "name": "ipython",
    "version": 2
   },
   "file_extension": ".py",
   "mimetype": "text/x-python",
   "name": "python",
   "nbconvert_exporter": "python",
   "pygments_lexer": "ipython2",
   "version": "2.7.11"
  }
 },
 "nbformat": 4,
 "nbformat_minor": 0
}
