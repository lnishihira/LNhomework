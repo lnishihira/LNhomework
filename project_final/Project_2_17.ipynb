{
 "cells": [
  {
   "cell_type": "code",
   "execution_count": 1,
   "metadata": {
    "collapsed": true
   },
   "outputs": [],
   "source": [
    "import pandas as pd\n",
    "import numpy as np\n",
    "import matplotlib.pyplot as plt\n",
    "%matplotlib inline"
   ]
  },
  {
   "cell_type": "code",
   "execution_count": 19,
   "metadata": {
    "collapsed": false
   },
   "outputs": [],
   "source": [
    "df = pd.read_csv('posts.csv',index_col='id')"
   ]
  },
  {
   "cell_type": "code",
   "execution_count": 3,
   "metadata": {
    "collapsed": false
   },
   "outputs": [
    {
     "data": {
      "text/html": [
       "<div>\n",
       "<table border=\"1\" class=\"dataframe\">\n",
       "  <thead>\n",
       "    <tr style=\"text-align: right;\">\n",
       "      <th></th>\n",
       "      <th>author_id</th>\n",
       "      <th>title</th>\n",
       "      <th>permalink</th>\n",
       "      <th>publish_date</th>\n",
       "      <th>primary_category_id</th>\n",
       "      <th>number_pages</th>\n",
       "      <th>publish_date_val</th>\n",
       "    </tr>\n",
       "    <tr>\n",
       "      <th>id</th>\n",
       "      <th></th>\n",
       "      <th></th>\n",
       "      <th></th>\n",
       "      <th></th>\n",
       "      <th></th>\n",
       "      <th></th>\n",
       "      <th></th>\n",
       "    </tr>\n",
       "  </thead>\n",
       "  <tbody>\n",
       "    <tr>\n",
       "      <th>414164</th>\n",
       "      <td>1232</td>\n",
       "      <td>20 Most Memorable Quotes From Steve Jobs</td>\n",
       "      <td>20-most-memorable-quotes-from-steve-jobs</td>\n",
       "      <td>10/28/15 13:06</td>\n",
       "      <td>NaN</td>\n",
       "      <td>20</td>\n",
       "      <td>42305.54610</td>\n",
       "    </tr>\n",
       "    <tr>\n",
       "      <th>414227</th>\n",
       "      <td>79</td>\n",
       "      <td>5 Warren Buffett Approved Dividend Stocks</td>\n",
       "      <td>5-dividend-stocks-approved-by-warren-buffett</td>\n",
       "      <td>10/13/15 7:46</td>\n",
       "      <td>45376</td>\n",
       "      <td>6</td>\n",
       "      <td>42290.32363</td>\n",
       "    </tr>\n",
       "    <tr>\n",
       "      <th>415574</th>\n",
       "      <td>1333</td>\n",
       "      <td>The 10 Least Expensive States to Live in the U.S.</td>\n",
       "      <td>the-8-least-expensive-states-to-live-in-the-u-s</td>\n",
       "      <td>9/11/15 10:46</td>\n",
       "      <td>448</td>\n",
       "      <td>11</td>\n",
       "      <td>42258.44867</td>\n",
       "    </tr>\n",
       "    <tr>\n",
       "      <th>415891</th>\n",
       "      <td>1232</td>\n",
       "      <td>15 Warren Buffett Quotes for a Scary Stock Market</td>\n",
       "      <td>warren-buffetts-15-most-memorable-quotes</td>\n",
       "      <td>1/15/16 14:31</td>\n",
       "      <td>45376</td>\n",
       "      <td>15</td>\n",
       "      <td>42384.60486</td>\n",
       "    </tr>\n",
       "    <tr>\n",
       "      <th>424993</th>\n",
       "      <td>1233</td>\n",
       "      <td>8 Top Grossing Football Movies of All Time</td>\n",
       "      <td>cant-wait-for-the-nfl-here-are-8-top-football-...</td>\n",
       "      <td>11/19/15 18:31</td>\n",
       "      <td>968</td>\n",
       "      <td>8</td>\n",
       "      <td>42327.77153</td>\n",
       "    </tr>\n",
       "  </tbody>\n",
       "</table>\n",
       "</div>"
      ],
      "text/plain": [
       "        author_id                                              title  \\\n",
       "id                                                                     \n",
       "414164       1232           20 Most Memorable Quotes From Steve Jobs   \n",
       "414227         79          5 Warren Buffett Approved Dividend Stocks   \n",
       "415574       1333  The 10 Least Expensive States to Live in the U.S.   \n",
       "415891       1232  15 Warren Buffett Quotes for a Scary Stock Market   \n",
       "424993       1233         8 Top Grossing Football Movies of All Time   \n",
       "\n",
       "                                                permalink    publish_date  \\\n",
       "id                                                                          \n",
       "414164           20-most-memorable-quotes-from-steve-jobs  10/28/15 13:06   \n",
       "414227       5-dividend-stocks-approved-by-warren-buffett   10/13/15 7:46   \n",
       "415574    the-8-least-expensive-states-to-live-in-the-u-s   9/11/15 10:46   \n",
       "415891           warren-buffetts-15-most-memorable-quotes   1/15/16 14:31   \n",
       "424993  cant-wait-for-the-nfl-here-are-8-top-football-...  11/19/15 18:31   \n",
       "\n",
       "        primary_category_id  number_pages  publish_date_val  \n",
       "id                                                           \n",
       "414164                  NaN            20       42305.54610  \n",
       "414227                45376             6       42290.32363  \n",
       "415574                  448            11       42258.44867  \n",
       "415891                45376            15       42384.60486  \n",
       "424993                  968             8       42327.77153  "
      ]
     },
     "execution_count": 3,
     "metadata": {},
     "output_type": "execute_result"
    }
   ],
   "source": [
    "df.head()"
   ]
  },
  {
   "cell_type": "markdown",
   "metadata": {},
   "source": [
    "\n",
    "    What is the question you hope to answer?\n",
    "        What characteristics make a \"sucessful\" article?\n",
    "    What data are you planning to use to answer that question?\n",
    "        6 months worth of articles, a certain percentage of them did very well on SEO (page views from google)\n",
    "    What do you know about the data so far?\n",
    "        Titles containing numbers (particularly the number 5) do very well\n",
    "        Titles with the word \"best\" and \"worst\" also do very well\n",
    "    Why did you choose this topic?\n",
    "        This is a simple actionable task that I can easily get data for and continue to build on for a long time.\n"
   ]
  },
  {
   "cell_type": "code",
   "execution_count": 4,
   "metadata": {
    "collapsed": true
   },
   "outputs": [],
   "source": []
  },
  {
   "cell_type": "code",
   "execution_count": 6,
   "metadata": {
    "collapsed": false
   },
   "outputs": [],
   "source": [
    "df1 = pd.read_csv('Analytics All Web Site Data SEO report 20160121-20160220.csv',index_col='post_id')"
   ]
  },
  {
   "cell_type": "code",
   "execution_count": 12,
   "metadata": {
    "collapsed": false
   },
   "outputs": [],
   "source": [
    "df2 = pd.read_csv('Analytics All Web Site Data SEO report 20160121-20160220 (1).csv',index_col='post_id')"
   ]
  },
  {
   "cell_type": "code",
   "execution_count": 14,
   "metadata": {
    "collapsed": false
   },
   "outputs": [],
   "source": [
    "frames = [df1,df2]\n",
    "df_pv = pd.concat(frames)"
   ]
  },
  {
   "cell_type": "code",
   "execution_count": 18,
   "metadata": {
    "collapsed": false
   },
   "outputs": [],
   "source": [
    "#df_pv.info"
   ]
  },
  {
   "cell_type": "code",
   "execution_count": 28,
   "metadata": {
    "collapsed": true
   },
   "outputs": [],
   "source": [
    "dfpvada = df_pv.join(df,how='inner')"
   ]
  },
  {
   "cell_type": "code",
   "execution_count": 29,
   "metadata": {
    "collapsed": false
   },
   "outputs": [
    {
     "data": {
      "text/html": [
       "<div>\n",
       "<table border=\"1\" class=\"dataframe\">\n",
       "  <thead>\n",
       "    <tr style=\"text-align: right;\">\n",
       "      <th></th>\n",
       "      <th>Page</th>\n",
       "      <th>Pageviews</th>\n",
       "      <th>author_id</th>\n",
       "      <th>title</th>\n",
       "      <th>permalink</th>\n",
       "      <th>publish_date</th>\n",
       "      <th>primary_category_id</th>\n",
       "      <th>number_pages</th>\n",
       "      <th>publish_date_val</th>\n",
       "    </tr>\n",
       "  </thead>\n",
       "  <tbody>\n",
       "    <tr>\n",
       "      <th>414164</th>\n",
       "      <td>/technology/20-most-memorable-quotes-from-stev...</td>\n",
       "      <td>25,706</td>\n",
       "      <td>1232</td>\n",
       "      <td>20 Most Memorable Quotes From Steve Jobs</td>\n",
       "      <td>20-most-memorable-quotes-from-steve-jobs</td>\n",
       "      <td>10/28/15 13:06</td>\n",
       "      <td>NaN</td>\n",
       "      <td>20</td>\n",
       "      <td>42305.54610</td>\n",
       "    </tr>\n",
       "    <tr>\n",
       "      <th>414227</th>\n",
       "      <td>/personal-finance/5-dividend-stocks-approved-b...</td>\n",
       "      <td>274</td>\n",
       "      <td>79</td>\n",
       "      <td>5 Warren Buffett Approved Dividend Stocks</td>\n",
       "      <td>5-dividend-stocks-approved-by-warren-buffett</td>\n",
       "      <td>10/13/15 7:46</td>\n",
       "      <td>45376</td>\n",
       "      <td>6</td>\n",
       "      <td>42290.32363</td>\n",
       "    </tr>\n",
       "    <tr>\n",
       "      <th>415574</th>\n",
       "      <td>/business/the-8-least-expensive-states-to-live...</td>\n",
       "      <td>28,516</td>\n",
       "      <td>1333</td>\n",
       "      <td>The 10 Least Expensive States to Live in the U.S.</td>\n",
       "      <td>the-8-least-expensive-states-to-live-in-the-u-s</td>\n",
       "      <td>9/11/15 10:46</td>\n",
       "      <td>448</td>\n",
       "      <td>11</td>\n",
       "      <td>42258.44867</td>\n",
       "    </tr>\n",
       "    <tr>\n",
       "      <th>415891</th>\n",
       "      <td>/personal-finance/warren-buffetts-15-most-memo...</td>\n",
       "      <td>2,468</td>\n",
       "      <td>1232</td>\n",
       "      <td>15 Warren Buffett Quotes for a Scary Stock Market</td>\n",
       "      <td>warren-buffetts-15-most-memorable-quotes</td>\n",
       "      <td>1/15/16 14:31</td>\n",
       "      <td>45376</td>\n",
       "      <td>15</td>\n",
       "      <td>42384.60486</td>\n",
       "    </tr>\n",
       "    <tr>\n",
       "      <th>415891</th>\n",
       "      <td>/personal-finance/warren-buffetts-15-most-memo...</td>\n",
       "      <td>137</td>\n",
       "      <td>1232</td>\n",
       "      <td>15 Warren Buffett Quotes for a Scary Stock Market</td>\n",
       "      <td>warren-buffetts-15-most-memorable-quotes</td>\n",
       "      <td>1/15/16 14:31</td>\n",
       "      <td>45376</td>\n",
       "      <td>15</td>\n",
       "      <td>42384.60486</td>\n",
       "    </tr>\n",
       "  </tbody>\n",
       "</table>\n",
       "</div>"
      ],
      "text/plain": [
       "                                                     Page Pageviews  \\\n",
       "414164  /technology/20-most-memorable-quotes-from-stev...    25,706   \n",
       "414227  /personal-finance/5-dividend-stocks-approved-b...       274   \n",
       "415574  /business/the-8-least-expensive-states-to-live...    28,516   \n",
       "415891  /personal-finance/warren-buffetts-15-most-memo...     2,468   \n",
       "415891  /personal-finance/warren-buffetts-15-most-memo...       137   \n",
       "\n",
       "        author_id                                              title  \\\n",
       "414164       1232           20 Most Memorable Quotes From Steve Jobs   \n",
       "414227         79          5 Warren Buffett Approved Dividend Stocks   \n",
       "415574       1333  The 10 Least Expensive States to Live in the U.S.   \n",
       "415891       1232  15 Warren Buffett Quotes for a Scary Stock Market   \n",
       "415891       1232  15 Warren Buffett Quotes for a Scary Stock Market   \n",
       "\n",
       "                                              permalink    publish_date  \\\n",
       "414164         20-most-memorable-quotes-from-steve-jobs  10/28/15 13:06   \n",
       "414227     5-dividend-stocks-approved-by-warren-buffett   10/13/15 7:46   \n",
       "415574  the-8-least-expensive-states-to-live-in-the-u-s   9/11/15 10:46   \n",
       "415891         warren-buffetts-15-most-memorable-quotes   1/15/16 14:31   \n",
       "415891         warren-buffetts-15-most-memorable-quotes   1/15/16 14:31   \n",
       "\n",
       "        primary_category_id  number_pages  publish_date_val  \n",
       "414164                  NaN            20       42305.54610  \n",
       "414227                45376             6       42290.32363  \n",
       "415574                  448            11       42258.44867  \n",
       "415891                45376            15       42384.60486  \n",
       "415891                45376            15       42384.60486  "
      ]
     },
     "execution_count": 29,
     "metadata": {},
     "output_type": "execute_result"
    }
   ],
   "source": [
    "dfpvada.head()"
   ]
  },
  {
   "cell_type": "code",
   "execution_count": 45,
   "metadata": {
    "collapsed": false
   },
   "outputs": [],
   "source": [
    "dfpvada1 = dfpvada.drop(['Page', 'title','number_pages','publish_date'], axis=1)\n",
    "\n"
   ]
  },
  {
   "cell_type": "code",
   "execution_count": 46,
   "metadata": {
    "collapsed": false
   },
   "outputs": [
    {
     "data": {
      "text/html": [
       "<div>\n",
       "<table border=\"1\" class=\"dataframe\">\n",
       "  <thead>\n",
       "    <tr style=\"text-align: right;\">\n",
       "      <th></th>\n",
       "      <th>Pageviews</th>\n",
       "      <th>author_id</th>\n",
       "      <th>permalink</th>\n",
       "      <th>primary_category_id</th>\n",
       "      <th>publish_date_val</th>\n",
       "    </tr>\n",
       "  </thead>\n",
       "  <tbody>\n",
       "    <tr>\n",
       "      <th>414164</th>\n",
       "      <td>25,706</td>\n",
       "      <td>1232</td>\n",
       "      <td>20-most-memorable-quotes-from-steve-jobs</td>\n",
       "      <td>NaN</td>\n",
       "      <td>42305.54610</td>\n",
       "    </tr>\n",
       "    <tr>\n",
       "      <th>414227</th>\n",
       "      <td>274</td>\n",
       "      <td>79</td>\n",
       "      <td>5-dividend-stocks-approved-by-warren-buffett</td>\n",
       "      <td>45376</td>\n",
       "      <td>42290.32363</td>\n",
       "    </tr>\n",
       "    <tr>\n",
       "      <th>415574</th>\n",
       "      <td>28,516</td>\n",
       "      <td>1333</td>\n",
       "      <td>the-8-least-expensive-states-to-live-in-the-u-s</td>\n",
       "      <td>448</td>\n",
       "      <td>42258.44867</td>\n",
       "    </tr>\n",
       "    <tr>\n",
       "      <th>415891</th>\n",
       "      <td>2,468</td>\n",
       "      <td>1232</td>\n",
       "      <td>warren-buffetts-15-most-memorable-quotes</td>\n",
       "      <td>45376</td>\n",
       "      <td>42384.60486</td>\n",
       "    </tr>\n",
       "    <tr>\n",
       "      <th>415891</th>\n",
       "      <td>137</td>\n",
       "      <td>1232</td>\n",
       "      <td>warren-buffetts-15-most-memorable-quotes</td>\n",
       "      <td>45376</td>\n",
       "      <td>42384.60486</td>\n",
       "    </tr>\n",
       "  </tbody>\n",
       "</table>\n",
       "</div>"
      ],
      "text/plain": [
       "       Pageviews  author_id                                        permalink  \\\n",
       "414164    25,706       1232         20-most-memorable-quotes-from-steve-jobs   \n",
       "414227       274         79     5-dividend-stocks-approved-by-warren-buffett   \n",
       "415574    28,516       1333  the-8-least-expensive-states-to-live-in-the-u-s   \n",
       "415891     2,468       1232         warren-buffetts-15-most-memorable-quotes   \n",
       "415891       137       1232         warren-buffetts-15-most-memorable-quotes   \n",
       "\n",
       "        primary_category_id  publish_date_val  \n",
       "414164                  NaN       42305.54610  \n",
       "414227                45376       42290.32363  \n",
       "415574                  448       42258.44867  \n",
       "415891                45376       42384.60486  \n",
       "415891                45376       42384.60486  "
      ]
     },
     "execution_count": 46,
     "metadata": {},
     "output_type": "execute_result"
    }
   ],
   "source": [
    "dfpvada1.head()"
   ]
  },
  {
   "cell_type": "code",
   "execution_count": null,
   "metadata": {
    "collapsed": true
   },
   "outputs": [],
   "source": []
  }
 ],
 "metadata": {
  "kernelspec": {
   "display_name": "Python 2",
   "language": "python",
   "name": "python2"
  },
  "language_info": {
   "codemirror_mode": {
    "name": "ipython",
    "version": 2
   },
   "file_extension": ".py",
   "mimetype": "text/x-python",
   "name": "python",
   "nbconvert_exporter": "python",
   "pygments_lexer": "ipython2",
   "version": "2.7.11"
  }
 },
 "nbformat": 4,
 "nbformat_minor": 0
}
