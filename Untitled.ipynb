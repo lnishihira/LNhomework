{
 "cells": [
  {
   "cell_type": "code",
   "execution_count": null,
   "metadata": {
    "collapsed": true
   },
   "outputs": [],
   "source": [
    "plt.figure(1, figsize=(10, 5));\n",
    "p_ind_clean['glucose_concentration'].plot(kind='hist', bins=20, label='Negative for Diabetes', color='red', alpha=0.8,title='Distribution of Patient Diabetes by Glucose Concentration')\n",
    "p_ind_clean[p_ind_clean['class']==1]['glucose_concentration'].plot(kind='hist', bins=20, label='Positive for Diabetes', color='skyblue', alpha=0.6)\n",
    "plt.legend(loc='best')\n",
    "\n",
    "plt.figure(2, figsize=(10, 5));\n",
    "p_ind_clean['BMI'].plot(kind='hist', bins=20, label='Negative for Diabetes', color='green', alpha=0.8,title='Distribution of Patient Diabetes by BMI')\n",
    "p_ind_clean[p_ind_clean['class']==1]['BMI'].plot(kind='hist', bins=20, label='Positive for Diabetes', color='skyblue', alpha=0.6)\n",
    "plt.legend(loc='best')\n",
    "\n",
    "plt.figure(3, figsize=(10, 5));\n",
    "p_ind_clean['age'].plot(kind='hist', bins=20, label='Negative for Diabetes', color='magenta', alpha=0.8,title='Distribution of Patient Diabetes by Age')\n",
    "p_ind_clean[p_ind_clean['class']==1]['age'].plot(kind='hist', bins=20, label='Positive for Diabetes', color='skyblue', alpha=0.6)\n",
    "plt.legend(loc='best')\n",
    "\n",
    "plt.figure(4, figsize=(10, 5));\n",
    "p_ind_clean['preg_rate'].plot(kind='hist', bins=20, label='Negative for Diabetes', color='indigo', alpha=0.8,title='Distribution of Patient Diabetes by Pregnancy rate')\n",
    "p_ind_clean[p_ind_clean['class']==1]['preg_rate'].plot(kind='hist', bins=20, label='Positive for Diabetes', color='skyblue', alpha=0.6)\n",
    "plt.legend(loc='best')\n",
    "\n",
    "plt.figure(5, figsize=(10, 5));\n",
    "p_ind_clean['d_pedigree'].plot(kind='hist', bins=20, label='Negative for Diabetes', color='orange', alpha=0.8,title='Distribution of Patient Diabetes by Diabetes Pedigree Function')\n",
    "p_ind_clean[p_ind_clean['class']==1]['d_pedigree'].plot(kind='hist', bins=20, label='Positive for Diabetes', color='skyblue', alpha=0.6)\n",
    "plt.legend(loc='best')\n",
    "\n",
    "plt.figure(6, figsize=(10, 5));\n",
    "p_ind_clean['d_blood_pressure'].plot(kind='hist', bins=20, label='Negative for Diabetes', color='darkgray', alpha=0.8,title='Distribution of Patient Diabetes by Blood Pressure')\n",
    "p_ind_clean[p_ind_clean['class']==1]['d_blood_pressure'].plot(kind='hist', bins=20, label='Positive for Diabetes', color='skyblue', alpha=0.6)\n",
    "plt.legend(loc='best')\n",
    ";"
   ]
  }
 ],
 "metadata": {
  "kernelspec": {
   "display_name": "Python 2",
   "language": "python",
   "name": "python2"
  },
  "language_info": {
   "codemirror_mode": {
    "name": "ipython",
    "version": 2
   },
   "file_extension": ".py",
   "mimetype": "text/x-python",
   "name": "python",
   "nbconvert_exporter": "python",
   "pygments_lexer": "ipython2",
   "version": "2.7.11"
  }
 },
 "nbformat": 4,
 "nbformat_minor": 0
}
