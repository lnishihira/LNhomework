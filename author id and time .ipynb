{
 "cells": [
  {
   "cell_type": "code",
   "execution_count": null,
   "metadata": {
    "collapsed": false
   },
   "outputs": [],
   "source": []
  },
  {
   "cell_type": "code",
   "execution_count": 92,
   "metadata": {
    "collapsed": true
   },
   "outputs": [],
   "source": [
    "import time as dt\n",
    "import pandas as pd\n",
    "import numpy as np\n",
    "import matplotlib.pyplot as plt\n",
    "%matplotlib inline\n",
    "from sklearn.feature_extraction.text import CountVectorizer\n",
    "from sklearn.naive_bayes import MultinomialNB\n",
    "from sklearn.grid_search import GridSearchCV\n",
    "from sklearn.cross_validation import KFold, cross_val_score\n",
    "from sklearn.preprocessing import StandardScaler\n",
    "from sklearn.cluster import KMeans\n",
    "import spacy\n",
    "from spacy.en import English"
   ]
  },
  {
   "cell_type": "code",
   "execution_count": 70,
   "metadata": {
    "collapsed": false,
    "scrolled": true
   },
   "outputs": [],
   "source": [
    "df = pd.read_csv('posts.csv',index_col='id')\n",
    "df1 = pd.read_csv('Analytics All Web Site Data SEO report 20150820-20160220 (1).csv',index_col='post_id')\n",
    "df2 = pd.read_csv('Analytics All Web Site Data SEO report 20150820-20160220.csv',index_col='post_id')\n",
    "frames = [df1,df2]\n",
    "df_pv = pd.concat(frames)\n",
    "df = df_pv.join(df,how='inner')\n",
    "df1 = df.drop(['Page','permalink', 'number_pages','publish_date_val'], axis=1)\n",
    "df1['class'] = df1['Pageviews'].apply(lambda x: x>3000).astype(int)\n",
    "df1['id_str'] = df1['primary_category_id'].astype(str)\n",
    "df1.drop_duplicates(subset='title')\n",
    "df1 = df1.dropna(axis=0)"
   ]
  },
  {
   "cell_type": "code",
   "execution_count": null,
   "metadata": {
    "collapsed": false
   },
   "outputs": [],
   "source": []
  },
  {
   "cell_type": "code",
   "execution_count": 16,
   "metadata": {
    "collapsed": false
   },
   "outputs": [],
   "source": [
    "def get_actions(parsed):\n",
    "   actions = [el.lemma_ for el in parsed if el.pos == spacy.parts_of_speech.VERB]\n",
    "   return actions"
   ]
  },
  {
   "cell_type": "code",
   "execution_count": 73,
   "metadata": {
    "collapsed": false
   },
   "outputs": [],
   "source": [
    "#titles = df1['title']\n",
    "#nlp = English()\n",
    "#for title in titles:\n",
    "#    doc = nlp(unicode(title, 'utf-8'))\n",
    "#    verbs = [el.lemma_ for el in doc if el.pos == spacy.parts_of_speech.VERB]\n",
    "#    nouns = [el.lemma_ for el in doc if el.pos == spacy.parts_of_speech.NOUN]\n",
    "#    adjectives = [el.lemma_ for el in doc if el.pos == spacy.parts_of_speech.ADJ]\n",
    "#    print(len(verbs))"
   ]
  },
  {
   "cell_type": "code",
   "execution_count": 74,
   "metadata": {
    "collapsed": false
   },
   "outputs": [],
   "source": [
    "titles = df1['title']\n",
    "df1['Noun'] = np.nan\n",
    "df1['Verb'] = np.nan\n",
    "df1['Adjective'] = np.nan\n",
    "\n",
    "nounsCount= []\n",
    "verbCount= []\n",
    "adjCount= []\n",
    "\n",
    "nlp = English()\n",
    "for title in titles:\n",
    "    doc = nlp(unicode(title, 'utf-8'))\n",
    "    nouns = [el.lemma_ for el in doc if el.pos == spacy.parts_of_speech.NOUN]\n",
    "    nounsCount.append(len(nouns)) \n",
    "    verbs = [el.lemma_ for el in doc if el.pos == spacy.parts_of_speech.VERB]\n",
    "    verbCount.append(len(verbs)) \n",
    "    adjectives = [el.lemma_ for el in doc if el.pos == spacy.parts_of_speech.ADJ]   \n",
    "    adjCount.append(len(adjectives)) "
   ]
  },
  {
   "cell_type": "code",
   "execution_count": 75,
   "metadata": {
    "collapsed": false
   },
   "outputs": [],
   "source": [
    "df1['Noun'] = nounsCount\n",
    "df1['Verb'] = verbCount\n",
    "df1['Adjective'] = adjCount"
   ]
  },
  {
   "cell_type": "code",
   "execution_count": 76,
   "metadata": {
    "collapsed": false
   },
   "outputs": [],
   "source": [
    "df1['has_10'] = df1['title'].str.contains('10').astype(int)\n",
    "df1['best'] = df1['title'].str.contains('best').astype(int)\n",
    "df1['worst'] = df1['title'].str.contains('worst').astype(int)\n",
    "df1['time'] = df1['title'].str.contains('time').astype(int)\n",
    "df1['buy'] = df1['title'].str.contains('buy').astype(int)\n",
    "df1['new'] = df1['title'].str.contains('new').astype(int)\n",
    "df1['season'] = df1['title'].str.contains('season').astype(int)\n"
   ]
  },
  {
   "cell_type": "code",
   "execution_count": 77,
   "metadata": {
    "collapsed": false
   },
   "outputs": [],
   "source": [
    "df1['publish_date'] = pd.to_datetime(df1['publish_date'])\n",
    "df1.set_index('publish_date', inplace=True)\n",
    "\n"
   ]
  },
  {
   "cell_type": "code",
   "execution_count": 80,
   "metadata": {
    "collapsed": true
   },
   "outputs": [],
   "source": [
    "df1['hour'] = df1.index.hour \n",
    "\n"
   ]
  },
  {
   "cell_type": "code",
   "execution_count": 104,
   "metadata": {
    "collapsed": false
   },
   "outputs": [
    {
     "ename": "NameError",
     "evalue": "(\"global name 'iloc' is not defined\", u'occurred at index Pageviews')",
     "output_type": "error",
     "traceback": [
      "\u001b[0;31m---------------------------------------------------------------------------\u001b[0m",
      "\u001b[0;31mNameError\u001b[0m                                 Traceback (most recent call last)",
      "\u001b[0;32m<ipython-input-104-0243d0c8ddae>\u001b[0m in \u001b[0;36m<module>\u001b[0;34m()\u001b[0m\n\u001b[1;32m      1\u001b[0m \u001b[0;31m#dt.strptime(\"2015-10-13 07:46:00\")\u001b[0m\u001b[0;34m\u001b[0m\u001b[0;34m\u001b[0m\u001b[0m\n\u001b[1;32m      2\u001b[0m \u001b[0;32mfrom\u001b[0m \u001b[0mdateutil\u001b[0m \u001b[0;32mimport\u001b[0m \u001b[0mparser\u001b[0m\u001b[0;34m\u001b[0m\u001b[0m\n\u001b[0;32m----> 3\u001b[0;31m \u001b[0mdf1\u001b[0m\u001b[0;34m[\u001b[0m\u001b[0;34m'DayofWeek'\u001b[0m\u001b[0;34m]\u001b[0m \u001b[0;34m=\u001b[0m \u001b[0mparser\u001b[0m\u001b[0;34m.\u001b[0m\u001b[0mparse\u001b[0m\u001b[0;34m(\u001b[0m\u001b[0mdf1\u001b[0m\u001b[0;34m.\u001b[0m\u001b[0mapply\u001b[0m\u001b[0;34m(\u001b[0m\u001b[0;32mlambda\u001b[0m \u001b[0mx\u001b[0m\u001b[0;34m:\u001b[0m \u001b[0miloc\u001b[0m\u001b[0;34m[\u001b[0m\u001b[0;36m0\u001b[0m\u001b[0;34m:\u001b[0m\u001b[0;36m1\u001b[0m\u001b[0;34m,\u001b[0m\u001b[0;36m1\u001b[0m\u001b[0;34m]\u001b[0m\u001b[0;34m)\u001b[0m\u001b[0;34m)\u001b[0m\u001b[0;34m\u001b[0m\u001b[0m\n\u001b[0m\u001b[1;32m      4\u001b[0m \u001b[0;31m#df1['Pageviews'].apply(lambda x: x>3000).astype(int)\u001b[0m\u001b[0;34m\u001b[0m\u001b[0;34m\u001b[0m\u001b[0m\n\u001b[1;32m      5\u001b[0m \u001b[0;31m#hey = parser.parse(\"2015-10-13 07:46:00\")\u001b[0m\u001b[0;34m\u001b[0m\u001b[0;34m\u001b[0m\u001b[0m\n",
      "\u001b[0;32m/Users/lilliananishihiraCheatsheet/anaconda/lib/python2.7/site-packages/pandas/core/frame.pyc\u001b[0m in \u001b[0;36mapply\u001b[0;34m(self, func, axis, broadcast, raw, reduce, args, **kwds)\u001b[0m\n\u001b[1;32m   3970\u001b[0m                     \u001b[0;32mif\u001b[0m \u001b[0mreduce\u001b[0m \u001b[0;32mis\u001b[0m \u001b[0mNone\u001b[0m\u001b[0;34m:\u001b[0m\u001b[0;34m\u001b[0m\u001b[0m\n\u001b[1;32m   3971\u001b[0m                         \u001b[0mreduce\u001b[0m \u001b[0;34m=\u001b[0m \u001b[0mTrue\u001b[0m\u001b[0;34m\u001b[0m\u001b[0m\n\u001b[0;32m-> 3972\u001b[0;31m                     \u001b[0;32mreturn\u001b[0m \u001b[0mself\u001b[0m\u001b[0;34m.\u001b[0m\u001b[0m_apply_standard\u001b[0m\u001b[0;34m(\u001b[0m\u001b[0mf\u001b[0m\u001b[0;34m,\u001b[0m \u001b[0maxis\u001b[0m\u001b[0;34m,\u001b[0m \u001b[0mreduce\u001b[0m\u001b[0;34m=\u001b[0m\u001b[0mreduce\u001b[0m\u001b[0;34m)\u001b[0m\u001b[0;34m\u001b[0m\u001b[0m\n\u001b[0m\u001b[1;32m   3973\u001b[0m             \u001b[0;32melse\u001b[0m\u001b[0;34m:\u001b[0m\u001b[0;34m\u001b[0m\u001b[0m\n\u001b[1;32m   3974\u001b[0m                 \u001b[0;32mreturn\u001b[0m \u001b[0mself\u001b[0m\u001b[0;34m.\u001b[0m\u001b[0m_apply_broadcast\u001b[0m\u001b[0;34m(\u001b[0m\u001b[0mf\u001b[0m\u001b[0;34m,\u001b[0m \u001b[0maxis\u001b[0m\u001b[0;34m)\u001b[0m\u001b[0;34m\u001b[0m\u001b[0m\n",
      "\u001b[0;32m/Users/lilliananishihiraCheatsheet/anaconda/lib/python2.7/site-packages/pandas/core/frame.pyc\u001b[0m in \u001b[0;36m_apply_standard\u001b[0;34m(self, func, axis, ignore_failures, reduce)\u001b[0m\n\u001b[1;32m   4062\u001b[0m             \u001b[0;32mtry\u001b[0m\u001b[0;34m:\u001b[0m\u001b[0;34m\u001b[0m\u001b[0m\n\u001b[1;32m   4063\u001b[0m                 \u001b[0;32mfor\u001b[0m \u001b[0mi\u001b[0m\u001b[0;34m,\u001b[0m \u001b[0mv\u001b[0m \u001b[0;32min\u001b[0m \u001b[0menumerate\u001b[0m\u001b[0;34m(\u001b[0m\u001b[0mseries_gen\u001b[0m\u001b[0;34m)\u001b[0m\u001b[0;34m:\u001b[0m\u001b[0;34m\u001b[0m\u001b[0m\n\u001b[0;32m-> 4064\u001b[0;31m                     \u001b[0mresults\u001b[0m\u001b[0;34m[\u001b[0m\u001b[0mi\u001b[0m\u001b[0;34m]\u001b[0m \u001b[0;34m=\u001b[0m \u001b[0mfunc\u001b[0m\u001b[0;34m(\u001b[0m\u001b[0mv\u001b[0m\u001b[0;34m)\u001b[0m\u001b[0;34m\u001b[0m\u001b[0m\n\u001b[0m\u001b[1;32m   4065\u001b[0m                     \u001b[0mkeys\u001b[0m\u001b[0;34m.\u001b[0m\u001b[0mappend\u001b[0m\u001b[0;34m(\u001b[0m\u001b[0mv\u001b[0m\u001b[0;34m.\u001b[0m\u001b[0mname\u001b[0m\u001b[0;34m)\u001b[0m\u001b[0;34m\u001b[0m\u001b[0m\n\u001b[1;32m   4066\u001b[0m             \u001b[0;32mexcept\u001b[0m \u001b[0mException\u001b[0m \u001b[0;32mas\u001b[0m \u001b[0me\u001b[0m\u001b[0;34m:\u001b[0m\u001b[0;34m\u001b[0m\u001b[0m\n",
      "\u001b[0;32m<ipython-input-104-0243d0c8ddae>\u001b[0m in \u001b[0;36m<lambda>\u001b[0;34m(x)\u001b[0m\n\u001b[1;32m      1\u001b[0m \u001b[0;31m#dt.strptime(\"2015-10-13 07:46:00\")\u001b[0m\u001b[0;34m\u001b[0m\u001b[0;34m\u001b[0m\u001b[0m\n\u001b[1;32m      2\u001b[0m \u001b[0;32mfrom\u001b[0m \u001b[0mdateutil\u001b[0m \u001b[0;32mimport\u001b[0m \u001b[0mparser\u001b[0m\u001b[0;34m\u001b[0m\u001b[0m\n\u001b[0;32m----> 3\u001b[0;31m \u001b[0mdf1\u001b[0m\u001b[0;34m[\u001b[0m\u001b[0;34m'DayofWeek'\u001b[0m\u001b[0;34m]\u001b[0m \u001b[0;34m=\u001b[0m \u001b[0mparser\u001b[0m\u001b[0;34m.\u001b[0m\u001b[0mparse\u001b[0m\u001b[0;34m(\u001b[0m\u001b[0mdf1\u001b[0m\u001b[0;34m.\u001b[0m\u001b[0mapply\u001b[0m\u001b[0;34m(\u001b[0m\u001b[0;32mlambda\u001b[0m \u001b[0mx\u001b[0m\u001b[0;34m:\u001b[0m \u001b[0miloc\u001b[0m\u001b[0;34m[\u001b[0m\u001b[0;36m0\u001b[0m\u001b[0;34m:\u001b[0m\u001b[0;36m1\u001b[0m\u001b[0;34m,\u001b[0m\u001b[0;36m1\u001b[0m\u001b[0;34m]\u001b[0m\u001b[0;34m)\u001b[0m\u001b[0;34m)\u001b[0m\u001b[0;34m\u001b[0m\u001b[0m\n\u001b[0m\u001b[1;32m      4\u001b[0m \u001b[0;31m#df1['Pageviews'].apply(lambda x: x>3000).astype(int)\u001b[0m\u001b[0;34m\u001b[0m\u001b[0;34m\u001b[0m\u001b[0m\n\u001b[1;32m      5\u001b[0m \u001b[0;31m#hey = parser.parse(\"2015-10-13 07:46:00\")\u001b[0m\u001b[0;34m\u001b[0m\u001b[0;34m\u001b[0m\u001b[0m\n",
      "\u001b[0;31mNameError\u001b[0m: (\"global name 'iloc' is not defined\", u'occurred at index Pageviews')"
     ]
    }
   ],
   "source": [
    "#dt.strptime(\"2015-10-13 07:46:00\")\n",
    "from dateutil import parser\n",
    "df1['DayofWeek'] = parser.parse(df1.apply(lambda x: iloc[0:1,1]))\n",
    "#df1['Pageviews'].apply(lambda x: x>3000).astype(int)\n",
    "#hey = parser.parse(\"2015-10-13 07:46:00\")\n",
    "#print(df1.iloc[0:1,1])"
   ]
  },
  {
   "cell_type": "code",
   "execution_count": 101,
   "metadata": {
    "collapsed": false
   },
   "outputs": [
    {
     "name": "stdout",
     "output_type": "stream",
     "text": [
      "1\n"
     ]
    }
   ],
   "source": [
    "print hey.weekday()"
   ]
  },
  {
   "cell_type": "code",
   "execution_count": 82,
   "metadata": {
    "collapsed": false
   },
   "outputs": [
    {
     "data": {
      "text/html": [
       "<div>\n",
       "<table border=\"1\" class=\"dataframe\">\n",
       "  <thead>\n",
       "    <tr style=\"text-align: right;\">\n",
       "      <th></th>\n",
       "      <th>Pageviews</th>\n",
       "      <th>author_id</th>\n",
       "      <th>title</th>\n",
       "      <th>primary_category_id</th>\n",
       "      <th>class</th>\n",
       "      <th>id_str</th>\n",
       "      <th>Noun</th>\n",
       "      <th>Verb</th>\n",
       "      <th>Adjective</th>\n",
       "      <th>has_10</th>\n",
       "      <th>best</th>\n",
       "      <th>worst</th>\n",
       "      <th>time</th>\n",
       "      <th>buy</th>\n",
       "      <th>new</th>\n",
       "      <th>season</th>\n",
       "      <th>hour</th>\n",
       "    </tr>\n",
       "    <tr>\n",
       "      <th>publish_date</th>\n",
       "      <th></th>\n",
       "      <th></th>\n",
       "      <th></th>\n",
       "      <th></th>\n",
       "      <th></th>\n",
       "      <th></th>\n",
       "      <th></th>\n",
       "      <th></th>\n",
       "      <th></th>\n",
       "      <th></th>\n",
       "      <th></th>\n",
       "      <th></th>\n",
       "      <th></th>\n",
       "      <th></th>\n",
       "      <th></th>\n",
       "      <th></th>\n",
       "      <th></th>\n",
       "    </tr>\n",
       "  </thead>\n",
       "  <tbody>\n",
       "    <tr>\n",
       "      <th>2015-10-13 07:46:00</th>\n",
       "      <td>922</td>\n",
       "      <td>79</td>\n",
       "      <td>5 Warren Buffett Approved Dividend Stocks</td>\n",
       "      <td>45376</td>\n",
       "      <td>0</td>\n",
       "      <td>45376.0</td>\n",
       "      <td>5</td>\n",
       "      <td>0</td>\n",
       "      <td>0</td>\n",
       "      <td>0</td>\n",
       "      <td>0</td>\n",
       "      <td>0</td>\n",
       "      <td>0</td>\n",
       "      <td>0</td>\n",
       "      <td>0</td>\n",
       "      <td>0</td>\n",
       "      <td>7</td>\n",
       "    </tr>\n",
       "    <tr>\n",
       "      <th>2015-09-11 10:46:00</th>\n",
       "      <td>211440</td>\n",
       "      <td>1333</td>\n",
       "      <td>The 10 Least Expensive States to Live in the U.S.</td>\n",
       "      <td>448</td>\n",
       "      <td>1</td>\n",
       "      <td>448.0</td>\n",
       "      <td>4</td>\n",
       "      <td>1</td>\n",
       "      <td>0</td>\n",
       "      <td>1</td>\n",
       "      <td>0</td>\n",
       "      <td>0</td>\n",
       "      <td>0</td>\n",
       "      <td>0</td>\n",
       "      <td>0</td>\n",
       "      <td>0</td>\n",
       "      <td>10</td>\n",
       "    </tr>\n",
       "    <tr>\n",
       "      <th>2015-09-11 10:46:00</th>\n",
       "      <td>921</td>\n",
       "      <td>1333</td>\n",
       "      <td>The 10 Least Expensive States to Live in the U.S.</td>\n",
       "      <td>448</td>\n",
       "      <td>0</td>\n",
       "      <td>448.0</td>\n",
       "      <td>4</td>\n",
       "      <td>1</td>\n",
       "      <td>0</td>\n",
       "      <td>1</td>\n",
       "      <td>0</td>\n",
       "      <td>0</td>\n",
       "      <td>0</td>\n",
       "      <td>0</td>\n",
       "      <td>0</td>\n",
       "      <td>0</td>\n",
       "      <td>10</td>\n",
       "    </tr>\n",
       "    <tr>\n",
       "      <th>2016-01-15 14:31:00</th>\n",
       "      <td>9213</td>\n",
       "      <td>1232</td>\n",
       "      <td>15 Warren Buffett Quotes for a Scary Stock Market</td>\n",
       "      <td>45376</td>\n",
       "      <td>1</td>\n",
       "      <td>45376.0</td>\n",
       "      <td>5</td>\n",
       "      <td>1</td>\n",
       "      <td>0</td>\n",
       "      <td>0</td>\n",
       "      <td>0</td>\n",
       "      <td>0</td>\n",
       "      <td>0</td>\n",
       "      <td>0</td>\n",
       "      <td>0</td>\n",
       "      <td>0</td>\n",
       "      <td>14</td>\n",
       "    </tr>\n",
       "    <tr>\n",
       "      <th>2015-11-19 18:31:00</th>\n",
       "      <td>5528</td>\n",
       "      <td>1233</td>\n",
       "      <td>8 Top Grossing Football Movies of All Time</td>\n",
       "      <td>968</td>\n",
       "      <td>1</td>\n",
       "      <td>968.0</td>\n",
       "      <td>4</td>\n",
       "      <td>0</td>\n",
       "      <td>1</td>\n",
       "      <td>0</td>\n",
       "      <td>0</td>\n",
       "      <td>0</td>\n",
       "      <td>0</td>\n",
       "      <td>0</td>\n",
       "      <td>0</td>\n",
       "      <td>0</td>\n",
       "      <td>18</td>\n",
       "    </tr>\n",
       "  </tbody>\n",
       "</table>\n",
       "</div>"
      ],
      "text/plain": [
       "                     Pageviews  author_id  \\\n",
       "publish_date                                \n",
       "2015-10-13 07:46:00        922         79   \n",
       "2015-09-11 10:46:00     211440       1333   \n",
       "2015-09-11 10:46:00        921       1333   \n",
       "2016-01-15 14:31:00       9213       1232   \n",
       "2015-11-19 18:31:00       5528       1233   \n",
       "\n",
       "                                                                 title  \\\n",
       "publish_date                                                             \n",
       "2015-10-13 07:46:00          5 Warren Buffett Approved Dividend Stocks   \n",
       "2015-09-11 10:46:00  The 10 Least Expensive States to Live in the U.S.   \n",
       "2015-09-11 10:46:00  The 10 Least Expensive States to Live in the U.S.   \n",
       "2016-01-15 14:31:00  15 Warren Buffett Quotes for a Scary Stock Market   \n",
       "2015-11-19 18:31:00         8 Top Grossing Football Movies of All Time   \n",
       "\n",
       "                     primary_category_id  class   id_str  Noun  Verb  \\\n",
       "publish_date                                                           \n",
       "2015-10-13 07:46:00                45376      0  45376.0     5     0   \n",
       "2015-09-11 10:46:00                  448      1    448.0     4     1   \n",
       "2015-09-11 10:46:00                  448      0    448.0     4     1   \n",
       "2016-01-15 14:31:00                45376      1  45376.0     5     1   \n",
       "2015-11-19 18:31:00                  968      1    968.0     4     0   \n",
       "\n",
       "                     Adjective  has_10  best  worst  time  buy  new  season  \\\n",
       "publish_date                                                                  \n",
       "2015-10-13 07:46:00          0       0     0      0     0    0    0       0   \n",
       "2015-09-11 10:46:00          0       1     0      0     0    0    0       0   \n",
       "2015-09-11 10:46:00          0       1     0      0     0    0    0       0   \n",
       "2016-01-15 14:31:00          0       0     0      0     0    0    0       0   \n",
       "2015-11-19 18:31:00          1       0     0      0     0    0    0       0   \n",
       "\n",
       "                     hour  \n",
       "publish_date               \n",
       "2015-10-13 07:46:00     7  \n",
       "2015-09-11 10:46:00    10  \n",
       "2015-09-11 10:46:00    10  \n",
       "2016-01-15 14:31:00    14  \n",
       "2015-11-19 18:31:00    18  "
      ]
     },
     "execution_count": 82,
     "metadata": {},
     "output_type": "execute_result"
    }
   ],
   "source": [
    "df1.head()"
   ]
  },
  {
   "cell_type": "code",
   "execution_count": null,
   "metadata": {
    "collapsed": true
   },
   "outputs": [],
   "source": []
  },
  {
   "cell_type": "code",
   "execution_count": null,
   "metadata": {
    "collapsed": true
   },
   "outputs": [],
   "source": []
  },
  {
   "cell_type": "code",
   "execution_count": null,
   "metadata": {
    "collapsed": true
   },
   "outputs": [],
   "source": []
  },
  {
   "cell_type": "code",
   "execution_count": null,
   "metadata": {
    "collapsed": true
   },
   "outputs": [],
   "source": []
  },
  {
   "cell_type": "code",
   "execution_count": null,
   "metadata": {
    "collapsed": true
   },
   "outputs": [],
   "source": []
  },
  {
   "cell_type": "code",
   "execution_count": 79,
   "metadata": {
    "collapsed": false
   },
   "outputs": [
    {
     "data": {
      "text/html": [
       "<div>\n",
       "<table border=\"1\" class=\"dataframe\">\n",
       "  <thead>\n",
       "    <tr style=\"text-align: right;\">\n",
       "      <th></th>\n",
       "      <th>Pageviews</th>\n",
       "      <th>author_id</th>\n",
       "      <th>title</th>\n",
       "      <th>primary_category_id</th>\n",
       "      <th>class</th>\n",
       "      <th>id_str</th>\n",
       "      <th>Noun</th>\n",
       "      <th>Verb</th>\n",
       "      <th>Adjective</th>\n",
       "      <th>has_10</th>\n",
       "      <th>best</th>\n",
       "      <th>worst</th>\n",
       "      <th>time</th>\n",
       "      <th>buy</th>\n",
       "      <th>new</th>\n",
       "      <th>season</th>\n",
       "    </tr>\n",
       "    <tr>\n",
       "      <th>publish_date</th>\n",
       "      <th></th>\n",
       "      <th></th>\n",
       "      <th></th>\n",
       "      <th></th>\n",
       "      <th></th>\n",
       "      <th></th>\n",
       "      <th></th>\n",
       "      <th></th>\n",
       "      <th></th>\n",
       "      <th></th>\n",
       "      <th></th>\n",
       "      <th></th>\n",
       "      <th></th>\n",
       "      <th></th>\n",
       "      <th></th>\n",
       "      <th></th>\n",
       "    </tr>\n",
       "  </thead>\n",
       "  <tbody>\n",
       "    <tr>\n",
       "      <th>2015-10-13 07:46:00</th>\n",
       "      <td>922</td>\n",
       "      <td>79</td>\n",
       "      <td>5 Warren Buffett Approved Dividend Stocks</td>\n",
       "      <td>45376</td>\n",
       "      <td>0</td>\n",
       "      <td>45376.0</td>\n",
       "      <td>5</td>\n",
       "      <td>0</td>\n",
       "      <td>0</td>\n",
       "      <td>0</td>\n",
       "      <td>0</td>\n",
       "      <td>0</td>\n",
       "      <td>0</td>\n",
       "      <td>0</td>\n",
       "      <td>0</td>\n",
       "      <td>0</td>\n",
       "    </tr>\n",
       "    <tr>\n",
       "      <th>2015-09-11 10:46:00</th>\n",
       "      <td>211440</td>\n",
       "      <td>1333</td>\n",
       "      <td>The 10 Least Expensive States to Live in the U.S.</td>\n",
       "      <td>448</td>\n",
       "      <td>1</td>\n",
       "      <td>448.0</td>\n",
       "      <td>4</td>\n",
       "      <td>1</td>\n",
       "      <td>0</td>\n",
       "      <td>1</td>\n",
       "      <td>0</td>\n",
       "      <td>0</td>\n",
       "      <td>0</td>\n",
       "      <td>0</td>\n",
       "      <td>0</td>\n",
       "      <td>0</td>\n",
       "    </tr>\n",
       "    <tr>\n",
       "      <th>2015-09-11 10:46:00</th>\n",
       "      <td>921</td>\n",
       "      <td>1333</td>\n",
       "      <td>The 10 Least Expensive States to Live in the U.S.</td>\n",
       "      <td>448</td>\n",
       "      <td>0</td>\n",
       "      <td>448.0</td>\n",
       "      <td>4</td>\n",
       "      <td>1</td>\n",
       "      <td>0</td>\n",
       "      <td>1</td>\n",
       "      <td>0</td>\n",
       "      <td>0</td>\n",
       "      <td>0</td>\n",
       "      <td>0</td>\n",
       "      <td>0</td>\n",
       "      <td>0</td>\n",
       "    </tr>\n",
       "    <tr>\n",
       "      <th>2016-01-15 14:31:00</th>\n",
       "      <td>9213</td>\n",
       "      <td>1232</td>\n",
       "      <td>15 Warren Buffett Quotes for a Scary Stock Market</td>\n",
       "      <td>45376</td>\n",
       "      <td>1</td>\n",
       "      <td>45376.0</td>\n",
       "      <td>5</td>\n",
       "      <td>1</td>\n",
       "      <td>0</td>\n",
       "      <td>0</td>\n",
       "      <td>0</td>\n",
       "      <td>0</td>\n",
       "      <td>0</td>\n",
       "      <td>0</td>\n",
       "      <td>0</td>\n",
       "      <td>0</td>\n",
       "    </tr>\n",
       "    <tr>\n",
       "      <th>2015-11-19 18:31:00</th>\n",
       "      <td>5528</td>\n",
       "      <td>1233</td>\n",
       "      <td>8 Top Grossing Football Movies of All Time</td>\n",
       "      <td>968</td>\n",
       "      <td>1</td>\n",
       "      <td>968.0</td>\n",
       "      <td>4</td>\n",
       "      <td>0</td>\n",
       "      <td>1</td>\n",
       "      <td>0</td>\n",
       "      <td>0</td>\n",
       "      <td>0</td>\n",
       "      <td>0</td>\n",
       "      <td>0</td>\n",
       "      <td>0</td>\n",
       "      <td>0</td>\n",
       "    </tr>\n",
       "  </tbody>\n",
       "</table>\n",
       "</div>"
      ],
      "text/plain": [
       "                     Pageviews  author_id  \\\n",
       "publish_date                                \n",
       "2015-10-13 07:46:00        922         79   \n",
       "2015-09-11 10:46:00     211440       1333   \n",
       "2015-09-11 10:46:00        921       1333   \n",
       "2016-01-15 14:31:00       9213       1232   \n",
       "2015-11-19 18:31:00       5528       1233   \n",
       "\n",
       "                                                                 title  \\\n",
       "publish_date                                                             \n",
       "2015-10-13 07:46:00          5 Warren Buffett Approved Dividend Stocks   \n",
       "2015-09-11 10:46:00  The 10 Least Expensive States to Live in the U.S.   \n",
       "2015-09-11 10:46:00  The 10 Least Expensive States to Live in the U.S.   \n",
       "2016-01-15 14:31:00  15 Warren Buffett Quotes for a Scary Stock Market   \n",
       "2015-11-19 18:31:00         8 Top Grossing Football Movies of All Time   \n",
       "\n",
       "                     primary_category_id  class   id_str  Noun  Verb  \\\n",
       "publish_date                                                           \n",
       "2015-10-13 07:46:00                45376      0  45376.0     5     0   \n",
       "2015-09-11 10:46:00                  448      1    448.0     4     1   \n",
       "2015-09-11 10:46:00                  448      0    448.0     4     1   \n",
       "2016-01-15 14:31:00                45376      1  45376.0     5     1   \n",
       "2015-11-19 18:31:00                  968      1    968.0     4     0   \n",
       "\n",
       "                     Adjective  has_10  best  worst  time  buy  new  season  \n",
       "publish_date                                                                 \n",
       "2015-10-13 07:46:00          0       0     0      0     0    0    0       0  \n",
       "2015-09-11 10:46:00          0       1     0      0     0    0    0       0  \n",
       "2015-09-11 10:46:00          0       1     0      0     0    0    0       0  \n",
       "2016-01-15 14:31:00          0       0     0      0     0    0    0       0  \n",
       "2015-11-19 18:31:00          1       0     0      0     0    0    0       0  "
      ]
     },
     "execution_count": 79,
     "metadata": {},
     "output_type": "execute_result"
    }
   ],
   "source": [
    "df1.head()"
   ]
  },
  {
   "cell_type": "code",
   "execution_count": null,
   "metadata": {
    "collapsed": true
   },
   "outputs": [],
   "source": []
  },
  {
   "cell_type": "code",
   "execution_count": 28,
   "metadata": {
    "collapsed": false
   },
   "outputs": [],
   "source": [
    "df1['id_str'].value_counts()\n",
    "df1 = df1.dropna(axis=0)"
   ]
  },
  {
   "cell_type": "code",
   "execution_count": 27,
   "metadata": {
    "collapsed": false
   },
   "outputs": [
    {
     "data": {
      "text/html": [
       "<div>\n",
       "<table border=\"1\" class=\"dataframe\">\n",
       "  <thead>\n",
       "    <tr style=\"text-align: right;\">\n",
       "      <th></th>\n",
       "      <th>Pageviews</th>\n",
       "      <th>author_id</th>\n",
       "      <th>title</th>\n",
       "      <th>publish_date</th>\n",
       "      <th>primary_category_id</th>\n",
       "      <th>class</th>\n",
       "      <th>id_str</th>\n",
       "    </tr>\n",
       "  </thead>\n",
       "  <tbody>\n",
       "    <tr>\n",
       "      <th>414227</th>\n",
       "      <td>922</td>\n",
       "      <td>79</td>\n",
       "      <td>5 Warren Buffett Approved Dividend Stocks</td>\n",
       "      <td>10/13/15 7:46</td>\n",
       "      <td>45376</td>\n",
       "      <td>0</td>\n",
       "      <td>45376.0</td>\n",
       "    </tr>\n",
       "    <tr>\n",
       "      <th>415574</th>\n",
       "      <td>211440</td>\n",
       "      <td>1333</td>\n",
       "      <td>The 10 Least Expensive States to Live in the U.S.</td>\n",
       "      <td>9/11/15 10:46</td>\n",
       "      <td>448</td>\n",
       "      <td>1</td>\n",
       "      <td>448.0</td>\n",
       "    </tr>\n",
       "    <tr>\n",
       "      <th>415574</th>\n",
       "      <td>921</td>\n",
       "      <td>1333</td>\n",
       "      <td>The 10 Least Expensive States to Live in the U.S.</td>\n",
       "      <td>9/11/15 10:46</td>\n",
       "      <td>448</td>\n",
       "      <td>0</td>\n",
       "      <td>448.0</td>\n",
       "    </tr>\n",
       "    <tr>\n",
       "      <th>415891</th>\n",
       "      <td>9213</td>\n",
       "      <td>1232</td>\n",
       "      <td>15 Warren Buffett Quotes for a Scary Stock Market</td>\n",
       "      <td>1/15/16 14:31</td>\n",
       "      <td>45376</td>\n",
       "      <td>1</td>\n",
       "      <td>45376.0</td>\n",
       "    </tr>\n",
       "    <tr>\n",
       "      <th>424993</th>\n",
       "      <td>5528</td>\n",
       "      <td>1233</td>\n",
       "      <td>8 Top Grossing Football Movies of All Time</td>\n",
       "      <td>11/19/15 18:31</td>\n",
       "      <td>968</td>\n",
       "      <td>1</td>\n",
       "      <td>968.0</td>\n",
       "    </tr>\n",
       "  </tbody>\n",
       "</table>\n",
       "</div>"
      ],
      "text/plain": [
       "        Pageviews  author_id  \\\n",
       "414227        922         79   \n",
       "415574     211440       1333   \n",
       "415574        921       1333   \n",
       "415891       9213       1232   \n",
       "424993       5528       1233   \n",
       "\n",
       "                                                    title    publish_date  \\\n",
       "414227          5 Warren Buffett Approved Dividend Stocks   10/13/15 7:46   \n",
       "415574  The 10 Least Expensive States to Live in the U.S.   9/11/15 10:46   \n",
       "415574  The 10 Least Expensive States to Live in the U.S.   9/11/15 10:46   \n",
       "415891  15 Warren Buffett Quotes for a Scary Stock Market   1/15/16 14:31   \n",
       "424993         8 Top Grossing Football Movies of All Time  11/19/15 18:31   \n",
       "\n",
       "        primary_category_id  class   id_str  \n",
       "414227                45376      0  45376.0  \n",
       "415574                  448      1    448.0  \n",
       "415574                  448      0    448.0  \n",
       "415891                45376      1  45376.0  \n",
       "424993                  968      1    968.0  "
      ]
     },
     "execution_count": 27,
     "metadata": {},
     "output_type": "execute_result"
    }
   ],
   "source": [
    "df1.head()"
   ]
  },
  {
   "cell_type": "code",
   "execution_count": 42,
   "metadata": {
    "collapsed": false
   },
   "outputs": [],
   "source": [
    "dfgroup = df1.groupby(by='class', axis=0)"
   ]
  },
  {
   "cell_type": "code",
   "execution_count": 43,
   "metadata": {
    "collapsed": true
   },
   "outputs": [
    {
     "data": {
      "text/html": [
       "<div>\n",
       "<table border=\"1\" class=\"dataframe\">\n",
       "  <thead>\n",
       "    <tr style=\"text-align: right;\">\n",
       "      <th></th>\n",
       "      <th></th>\n",
       "      <th>Pageviews</th>\n",
       "      <th>author_id</th>\n",
       "      <th>primary_category_id</th>\n",
       "    </tr>\n",
       "    <tr>\n",
       "      <th>class</th>\n",
       "      <th></th>\n",
       "      <th></th>\n",
       "      <th></th>\n",
       "      <th></th>\n",
       "    </tr>\n",
       "  </thead>\n",
       "  <tbody>\n",
       "    <tr>\n",
       "      <th rowspan=\"8\" valign=\"top\">0</th>\n",
       "      <th>count</th>\n",
       "      <td>5073.000000</td>\n",
       "      <td>5073.000000</td>\n",
       "      <td>5073.000000</td>\n",
       "    </tr>\n",
       "    <tr>\n",
       "      <th>mean</th>\n",
       "      <td>922.253105</td>\n",
       "      <td>1325.345555</td>\n",
       "      <td>52674.569683</td>\n",
       "    </tr>\n",
       "    <tr>\n",
       "      <th>std</th>\n",
       "      <td>607.423753</td>\n",
       "      <td>240.521387</td>\n",
       "      <td>53931.364597</td>\n",
       "    </tr>\n",
       "    <tr>\n",
       "      <th>min</th>\n",
       "      <td>461.000000</td>\n",
       "      <td>79.000000</td>\n",
       "      <td>448.000000</td>\n",
       "    </tr>\n",
       "    <tr>\n",
       "      <th>25%</th>\n",
       "      <td>461.000000</td>\n",
       "      <td>1332.000000</td>\n",
       "      <td>13856.000000</td>\n",
       "    </tr>\n",
       "    <tr>\n",
       "      <th>50%</th>\n",
       "      <td>921.000000</td>\n",
       "      <td>1387.000000</td>\n",
       "      <td>23977.000000</td>\n",
       "    </tr>\n",
       "    <tr>\n",
       "      <th>75%</th>\n",
       "      <td>1382.000000</td>\n",
       "      <td>1405.000000</td>\n",
       "      <td>124485.000000</td>\n",
       "    </tr>\n",
       "    <tr>\n",
       "      <th>max</th>\n",
       "      <td>2764.000000</td>\n",
       "      <td>1466.000000</td>\n",
       "      <td>124496.000000</td>\n",
       "    </tr>\n",
       "    <tr>\n",
       "      <th rowspan=\"8\" valign=\"top\">1</th>\n",
       "      <th>count</th>\n",
       "      <td>921.000000</td>\n",
       "      <td>921.000000</td>\n",
       "      <td>921.000000</td>\n",
       "    </tr>\n",
       "    <tr>\n",
       "      <th>mean</th>\n",
       "      <td>19608.031488</td>\n",
       "      <td>1327.970684</td>\n",
       "      <td>33326.775244</td>\n",
       "    </tr>\n",
       "    <tr>\n",
       "      <th>std</th>\n",
       "      <td>73934.250359</td>\n",
       "      <td>160.541794</td>\n",
       "      <td>45039.948355</td>\n",
       "    </tr>\n",
       "    <tr>\n",
       "      <th>min</th>\n",
       "      <td>3225.000000</td>\n",
       "      <td>79.000000</td>\n",
       "      <td>448.000000</td>\n",
       "    </tr>\n",
       "    <tr>\n",
       "      <th>25%</th>\n",
       "      <td>4146.000000</td>\n",
       "      <td>1297.000000</td>\n",
       "      <td>968.000000</td>\n",
       "    </tr>\n",
       "    <tr>\n",
       "      <th>50%</th>\n",
       "      <td>6910.000000</td>\n",
       "      <td>1357.000000</td>\n",
       "      <td>13856.000000</td>\n",
       "    </tr>\n",
       "    <tr>\n",
       "      <th>75%</th>\n",
       "      <td>15202.000000</td>\n",
       "      <td>1393.000000</td>\n",
       "      <td>23977.000000</td>\n",
       "    </tr>\n",
       "    <tr>\n",
       "      <th>max</th>\n",
       "      <td>2046219.000000</td>\n",
       "      <td>1461.000000</td>\n",
       "      <td>124496.000000</td>\n",
       "    </tr>\n",
       "  </tbody>\n",
       "</table>\n",
       "</div>"
      ],
      "text/plain": [
       "                  Pageviews    author_id  primary_category_id\n",
       "class                                                        \n",
       "0     count     5073.000000  5073.000000          5073.000000\n",
       "      mean       922.253105  1325.345555         52674.569683\n",
       "      std        607.423753   240.521387         53931.364597\n",
       "      min        461.000000    79.000000           448.000000\n",
       "      25%        461.000000  1332.000000         13856.000000\n",
       "      50%        921.000000  1387.000000         23977.000000\n",
       "      75%       1382.000000  1405.000000        124485.000000\n",
       "      max       2764.000000  1466.000000        124496.000000\n",
       "1     count      921.000000   921.000000           921.000000\n",
       "      mean     19608.031488  1327.970684         33326.775244\n",
       "      std      73934.250359   160.541794         45039.948355\n",
       "      min       3225.000000    79.000000           448.000000\n",
       "      25%       4146.000000  1297.000000           968.000000\n",
       "      50%       6910.000000  1357.000000         13856.000000\n",
       "      75%      15202.000000  1393.000000         23977.000000\n",
       "      max    2046219.000000  1461.000000        124496.000000"
      ]
     },
     "execution_count": 43,
     "metadata": {},
     "output_type": "execute_result"
    }
   ],
   "source": [
    "dfgroup.describe()"
   ]
  },
  {
   "cell_type": "code",
   "execution_count": 61,
   "metadata": {
    "collapsed": false
   },
   "outputs": [
    {
     "data": {
      "text/plain": [
       "array([[0, 0, 0, ..., 0, 0, 0],\n",
       "       [0, 0, 1, ..., 0, 0, 0],\n",
       "       [0, 0, 1, ..., 0, 0, 0],\n",
       "       ..., \n",
       "       [0, 0, 0, ..., 0, 0, 0],\n",
       "       [0, 0, 0, ..., 0, 0, 0],\n",
       "       [0, 0, 0, ..., 0, 0, 0]])"
      ]
     },
     "execution_count": 61,
     "metadata": {},
     "output_type": "execute_result"
    }
   ],
   "source": [
    "\n",
    "y, X = df1['class'], df1.drop(['class'], axis=1)\n",
    "vect = CountVectorizer(decode_error='ignore')\n",
    "vect.fit(df1.title)\n",
    "\n",
    "vect.get_feature_names()\n",
    "\n",
    "vect_trans = vect.transform(df1.title)\n",
    "vect_trans.toarray()\n"
   ]
  },
  {
   "cell_type": "code",
   "execution_count": 62,
   "metadata": {
    "collapsed": false
   },
   "outputs": [],
   "source": [
    "df = pd.DataFrame(vect_trans.toarray())\n",
    "df['y'] = df1['class'].values"
   ]
  },
  {
   "cell_type": "code",
   "execution_count": 63,
   "metadata": {
    "collapsed": false
   },
   "outputs": [
    {
     "data": {
      "text/html": [
       "<div>\n",
       "<table border=\"1\" class=\"dataframe\">\n",
       "  <thead>\n",
       "    <tr style=\"text-align: right;\">\n",
       "      <th></th>\n",
       "      <th>0</th>\n",
       "      <th>1</th>\n",
       "      <th>2</th>\n",
       "      <th>3</th>\n",
       "      <th>4</th>\n",
       "      <th>5</th>\n",
       "      <th>6</th>\n",
       "      <th>7</th>\n",
       "      <th>8</th>\n",
       "      <th>9</th>\n",
       "      <th>...</th>\n",
       "      <th>4325</th>\n",
       "      <th>4326</th>\n",
       "      <th>4327</th>\n",
       "      <th>4328</th>\n",
       "      <th>4329</th>\n",
       "      <th>4330</th>\n",
       "      <th>4331</th>\n",
       "      <th>4332</th>\n",
       "      <th>4333</th>\n",
       "      <th>y</th>\n",
       "    </tr>\n",
       "  </thead>\n",
       "  <tbody>\n",
       "    <tr>\n",
       "      <th>0</th>\n",
       "      <td>0</td>\n",
       "      <td>0</td>\n",
       "      <td>0</td>\n",
       "      <td>0</td>\n",
       "      <td>0</td>\n",
       "      <td>0</td>\n",
       "      <td>0</td>\n",
       "      <td>0</td>\n",
       "      <td>0</td>\n",
       "      <td>0</td>\n",
       "      <td>...</td>\n",
       "      <td>0</td>\n",
       "      <td>0</td>\n",
       "      <td>0</td>\n",
       "      <td>0</td>\n",
       "      <td>0</td>\n",
       "      <td>0</td>\n",
       "      <td>0</td>\n",
       "      <td>0</td>\n",
       "      <td>0</td>\n",
       "      <td>0</td>\n",
       "    </tr>\n",
       "    <tr>\n",
       "      <th>1</th>\n",
       "      <td>0</td>\n",
       "      <td>0</td>\n",
       "      <td>1</td>\n",
       "      <td>0</td>\n",
       "      <td>0</td>\n",
       "      <td>0</td>\n",
       "      <td>0</td>\n",
       "      <td>0</td>\n",
       "      <td>0</td>\n",
       "      <td>0</td>\n",
       "      <td>...</td>\n",
       "      <td>0</td>\n",
       "      <td>0</td>\n",
       "      <td>0</td>\n",
       "      <td>0</td>\n",
       "      <td>0</td>\n",
       "      <td>0</td>\n",
       "      <td>0</td>\n",
       "      <td>0</td>\n",
       "      <td>0</td>\n",
       "      <td>1</td>\n",
       "    </tr>\n",
       "    <tr>\n",
       "      <th>2</th>\n",
       "      <td>0</td>\n",
       "      <td>0</td>\n",
       "      <td>1</td>\n",
       "      <td>0</td>\n",
       "      <td>0</td>\n",
       "      <td>0</td>\n",
       "      <td>0</td>\n",
       "      <td>0</td>\n",
       "      <td>0</td>\n",
       "      <td>0</td>\n",
       "      <td>...</td>\n",
       "      <td>0</td>\n",
       "      <td>0</td>\n",
       "      <td>0</td>\n",
       "      <td>0</td>\n",
       "      <td>0</td>\n",
       "      <td>0</td>\n",
       "      <td>0</td>\n",
       "      <td>0</td>\n",
       "      <td>0</td>\n",
       "      <td>0</td>\n",
       "    </tr>\n",
       "    <tr>\n",
       "      <th>3</th>\n",
       "      <td>0</td>\n",
       "      <td>0</td>\n",
       "      <td>0</td>\n",
       "      <td>0</td>\n",
       "      <td>0</td>\n",
       "      <td>0</td>\n",
       "      <td>0</td>\n",
       "      <td>0</td>\n",
       "      <td>0</td>\n",
       "      <td>0</td>\n",
       "      <td>...</td>\n",
       "      <td>0</td>\n",
       "      <td>0</td>\n",
       "      <td>0</td>\n",
       "      <td>0</td>\n",
       "      <td>0</td>\n",
       "      <td>0</td>\n",
       "      <td>0</td>\n",
       "      <td>0</td>\n",
       "      <td>0</td>\n",
       "      <td>1</td>\n",
       "    </tr>\n",
       "    <tr>\n",
       "      <th>4</th>\n",
       "      <td>0</td>\n",
       "      <td>0</td>\n",
       "      <td>0</td>\n",
       "      <td>0</td>\n",
       "      <td>0</td>\n",
       "      <td>0</td>\n",
       "      <td>0</td>\n",
       "      <td>0</td>\n",
       "      <td>0</td>\n",
       "      <td>0</td>\n",
       "      <td>...</td>\n",
       "      <td>0</td>\n",
       "      <td>0</td>\n",
       "      <td>0</td>\n",
       "      <td>0</td>\n",
       "      <td>0</td>\n",
       "      <td>0</td>\n",
       "      <td>0</td>\n",
       "      <td>0</td>\n",
       "      <td>0</td>\n",
       "      <td>1</td>\n",
       "    </tr>\n",
       "  </tbody>\n",
       "</table>\n",
       "<p>5 rows × 4335 columns</p>\n",
       "</div>"
      ],
      "text/plain": [
       "   0  1  2  3  4  5  6  7  8  9 ...  4325  4326  4327  4328  4329  4330  4331  \\\n",
       "0  0  0  0  0  0  0  0  0  0  0 ...     0     0     0     0     0     0     0   \n",
       "1  0  0  1  0  0  0  0  0  0  0 ...     0     0     0     0     0     0     0   \n",
       "2  0  0  1  0  0  0  0  0  0  0 ...     0     0     0     0     0     0     0   \n",
       "3  0  0  0  0  0  0  0  0  0  0 ...     0     0     0     0     0     0     0   \n",
       "4  0  0  0  0  0  0  0  0  0  0 ...     0     0     0     0     0     0     0   \n",
       "\n",
       "   4332  4333  y  \n",
       "0     0     0  0  \n",
       "1     0     0  1  \n",
       "2     0     0  0  \n",
       "3     0     0  1  \n",
       "4     0     0  1  \n",
       "\n",
       "[5 rows x 4335 columns]"
      ]
     },
     "execution_count": 63,
     "metadata": {},
     "output_type": "execute_result"
    }
   ],
   "source": [
    "df.head()"
   ]
  },
  {
   "cell_type": "code",
   "execution_count": 66,
   "metadata": {
    "collapsed": true
   },
   "outputs": [],
   "source": [
    "y, X = df.y, df.drop(['y'], axis=1)"
   ]
  },
  {
   "cell_type": "code",
   "execution_count": 67,
   "metadata": {
    "collapsed": true
   },
   "outputs": [],
   "source": [
    "scale = StandardScaler()\n",
    "X_scale = pd.DataFrame(scale.fit_transform(X))\n",
    "X_scale.columns = X.columns"
   ]
  },
  {
   "cell_type": "code",
   "execution_count": 68,
   "metadata": {
    "collapsed": true
   },
   "outputs": [],
   "source": [
    "from sklearn.cross_validation import train_test_split\n",
    "X_train, X_test, y_train, y_test = train_test_split(X, y, \n",
    "                                                    test_size=0.2, random_state=7)\n",
    "from sklearn.cross_validation import ShuffleSplit\n",
    "cv = ShuffleSplit(X_train.shape[0], n_iter=10, test_size=0.2, random_state=0)"
   ]
  },
  {
   "cell_type": "code",
   "execution_count": 69,
   "metadata": {
    "collapsed": true
   },
   "outputs": [],
   "source": [
    "\n",
    "\n",
    "from sklearn.cluster import KMeans\n",
    "from sklearn.metrics import silhouette_score\n",
    "\n"
   ]
  },
  {
   "cell_type": "code",
   "execution_count": 73,
   "metadata": {
    "collapsed": false
   },
   "outputs": [
    {
     "data": {
      "image/png": "[encoded data removed]",
      "text/plain": [
       "<matplotlib.figure.Figure at 0x12fc3ce10>"
      ]
     },
     "metadata": {},
     "output_type": "display_data"
    }
   ],
   "source": [
    "\n",
    "k = []\n",
    "s = []\n",
    "for n in range(2,5):\n",
    "    km2 = KMeans(n_clusters=n)\n",
    "    km2.fit(X_train)\n",
    "    centers = km2.fit_predict(X_scale)\n",
    "\n",
    "    k.append(n)\n",
    "    s.append(silhouette_score(X_scale, centers))\n",
    "\n",
    "plt.plot(k,s);"
   ]
  },
  {
   "cell_type": "code",
   "execution_count": 74,
   "metadata": {
    "collapsed": false
   },
   "outputs": [
    {
     "name": "stdout",
     "output_type": "stream",
     "text": [
      "CPU times: user 27.8 s, sys: 238 ms, total: 28.1 s\n",
      "Wall time: 20.8 s\n"
     ]
    }
   ],
   "source": [
    "%%time\n",
    "km = KMeans(n_clusters=3, n_init=20)\n",
    "cluster_labels = km.fit_predict(X_scale)"
   ]
  },
  {
   "cell_type": "code",
   "execution_count": 75,
   "metadata": {
    "collapsed": false
   },
   "outputs": [
    {
     "name": "stdout",
     "output_type": "stream",
     "text": [
      "25927215.5289\n"
     ]
    }
   ],
   "source": [
    "print km.inertia_"
   ]
  },
  {
   "cell_type": "code",
   "execution_count": 76,
   "metadata": {
    "collapsed": false
   },
   "outputs": [
    {
     "name": "stdout",
     "output_type": "stream",
     "text": [
      "-0.0621303573166\n"
     ]
    }
   ],
   "source": [
    "from sklearn.metrics import silhouette_score\n",
    "print silhouette_score(X_scale, cluster_labels)"
   ]
  },
  {
   "cell_type": "code",
   "execution_count": 77,
   "metadata": {
    "collapsed": false
   },
   "outputs": [
    {
     "data": {
      "image/png": "[encoded data removed]",
      "text/plain": [
       "<matplotlib.figure.Figure at 0x10c3230d0>"
      ]
     },
     "metadata": {},
     "output_type": "display_data"
    }
   ],
   "source": [
    "\n",
    "k = []\n",
    "s = []\n",
    "for n in range(2,5):\n",
    "    km2 = KMeans(n_clusters=n)\n",
    "    km2.fit(X_train)\n",
    "    centers = km2.fit_predict(X_scale)\n",
    "\n",
    "    k.append(n)\n",
    "    s.append(silhouette_score(X_scale, centers))\n",
    "\n",
    "plt.plot(k,s);"
   ]
  },
  {
   "cell_type": "code",
   "execution_count": null,
   "metadata": {
    "collapsed": true
   },
   "outputs": [],
   "source": []
  }
 ],
 "metadata": {
  "kernelspec": {
   "display_name": "Python 2",
   "language": "python",
   "name": "python2"
  },
  "language_info": {
   "codemirror_mode": {
    "name": "ipython",
    "version": 2
   },
   "file_extension": ".py",
   "mimetype": "text/x-python",
   "name": "python",
   "nbconvert_exporter": "python",
   "pygments_lexer": "ipython2",
   "version": "2.7.11"
  }
 },
 "nbformat": 4,
 "nbformat_minor": 0
}
